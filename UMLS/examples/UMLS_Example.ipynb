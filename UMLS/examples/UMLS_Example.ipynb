{
 "cells": [
  {
   "cell_type": "markdown",
   "metadata": {},
   "source": [
    "# UMLS Shelve File "
   ]
  },
  {
   "cell_type": "markdown",
   "metadata": {},
   "source": [
    "Python dictionary take CUI as keys, and provide information on ULMS name, type, definitions and relationships.  \n",
    "In the following section, we provide examples of loading the data and basic data exploration tasks such as print ULMS names and track term relationships. "
   ]
  },
  {
   "cell_type": "markdown",
   "metadata": {},
   "source": [
    "## Load shelve file:"
   ]
  },
  {
   "cell_type": "code",
   "execution_count": 10,
   "metadata": {
    "collapsed": true
   },
   "outputs": [],
   "source": [
    "from UMLS import UMLSUtils\n",
    "import sys\n",
    "sys.modules['UMLSUtils'] = UMLSUtils  "
   ]
  },
  {
   "cell_type": "code",
   "execution_count": 102,
   "metadata": {
    "collapsed": true
   },
   "outputs": [],
   "source": [
    "import os\n",
    "import pickle\n",
    "import shelve\n",
    "from pprint import pprint"
   ]
  },
  {
   "cell_type": "markdown",
   "metadata": {},
   "source": []
  },
  {
   "cell_type": "code",
   "execution_count": 11,
   "metadata": {
    "collapsed": false
   },
   "outputs": [],
   "source": [
    "dataDir = '../../../sample_shelf/'\n",
    "umls_shelve_dict  = shelve.open(dataDir + \"umls_shelve_dict.shlf\")"
   ]
  },
  {
   "cell_type": "code",
   "execution_count": 4,
   "metadata": {
    "collapsed": false
   },
   "outputs": [
    {
     "data": {
      "text/plain": [
       "4251"
      ]
     },
     "execution_count": 4,
     "metadata": {},
     "output_type": "execute_result"
    }
   ],
   "source": [
    "len(umls_shelve_dict)"
   ]
  },
  {
   "cell_type": "markdown",
   "metadata": {},
   "source": [
    "## Data exploration"
   ]
  },
  {
   "cell_type": "code",
   "execution_count": 68,
   "metadata": {
    "collapsed": true
   },
   "outputs": [],
   "source": [
    "key = 'C0004096'"
   ]
  },
  {
   "cell_type": "markdown",
   "metadata": {},
   "source": [
    "### Meta information"
   ]
  },
  {
   "cell_type": "code",
   "execution_count": 75,
   "metadata": {
    "collapsed": false
   },
   "outputs": [
    {
     "name": "stdout",
     "output_type": "stream",
     "text": [
      "CUI:\tC0004096\n",
      "NAME:\tAsthma\n",
      "TYPES:\t[('Disease or Syndrome', 'B2.2.1.2.1')]\n",
      "36\t NAMES \t42\t CODES \t14\t DEFINITIONS \t0\t RELATIONS \n",
      "\n"
     ]
    }
   ],
   "source": [
    "print umls_shelve_dict[key]"
   ]
  },
  {
   "cell_type": "markdown",
   "metadata": {},
   "source": [
    "### Check out details"
   ]
  },
  {
   "cell_type": "markdown",
   "metadata": {},
   "source": [
    "#### Names:"
   ]
  },
  {
   "cell_type": "code",
   "execution_count": 72,
   "metadata": {
    "collapsed": false
   },
   "outputs": [
    {
     "name": "stdout",
     "output_type": "stream",
     "text": [
      "C0004096\n",
      "Asthma\n",
      "['Asthma, NOS', 'Asthma', 'Asthma unspecified', 'Airway hyperreactivity', 'Bronchitic asthma', '-- Asthma', 'Bronchial asthma, NOS', '2-51 ASTHMA', 'Asthmatic', 'asthma disorders', 'Asthma bronchial', 'Bronchial Asthma', 'asthma', 'Cardio/pulm: Asthma', 'br asthma', 'Unspecified asthma', 'bronchitic asthma', 'Asthmas', 'Asthma unspecified (disorder)', 'ASTHMA BRONCHIAL', 'asthmatic', 'Bronchial asthma', 'asthmatics', 'BRONCHIAL ASTHMA', 'Asthma NOS (disorder)', 'Asthma, Bronchial', 'Asthma (disorder) [Ambiguous]', 'Asthma, unspecified', 'Asthma [Disease/Finding]', 'bronchial asthma', 'ASTHMA', 'Asthma NOS', 'asthma (diagnosis)', 'Asthma (disorder)', 'Br. asthma', 'ASTHMA, BRONCHIAL']\n"
     ]
    }
   ],
   "source": [
    "print umls_shelve_dict[key].cui\n",
    "print umls_shelve_dict[key].name\n",
    "print umls_shelve_dict[key].names"
   ]
  },
  {
   "cell_type": "markdown",
   "metadata": {},
   "source": [
    "#### Definition:"
   ]
  },
  {
   "cell_type": "code",
   "execution_count": 73,
   "metadata": {
    "collapsed": false
   },
   "outputs": [
    {
     "name": "stdout",
     "output_type": "stream",
     "text": [
      "C0004096\n",
      "Asthma\n",
      "A form of bronchial disorder with three distinct components: airway hyper-responsiveness (RESPIRATORY HYPERSENSITIVITY), airway INFLAMMATION, and intermittent AIRWAY OBSTRUCTION. It is characterized by spasmodic contraction of airway smooth muscle, WHEEZING, and dyspnea (DYSPNEA, PAROXYSMAL).\n"
     ]
    }
   ],
   "source": [
    "print umls_shelve_dict[key].cui\n",
    "print umls_shelve_dict[key].name\n",
    "print umls_shelve_dict[key].definitions[0]"
   ]
  },
  {
   "cell_type": "markdown",
   "metadata": {},
   "source": [
    "#### Semantic types"
   ]
  },
  {
   "cell_type": "code",
   "execution_count": 74,
   "metadata": {
    "collapsed": false
   },
   "outputs": [
    {
     "name": "stdout",
     "output_type": "stream",
     "text": [
      "C0004096\n",
      "Asthma\n",
      "('Disease or Syndrome', 'B2.2.1.2.1')\n"
     ]
    }
   ],
   "source": [
    "print umls_shelve_dict[key].cui\n",
    "print umls_shelve_dict[key].name\n",
    "print umls_shelve_dict[key].semantic_types[0]"
   ]
  },
  {
   "cell_type": "markdown",
   "metadata": {},
   "source": [
    "#### Codes"
   ]
  },
  {
   "cell_type": "code",
   "execution_count": 106,
   "metadata": {
    "collapsed": false
   },
   "outputs": [
    {
     "name": "stdout",
     "output_type": "stream",
     "text": [
      "C0001127\n",
      "Acidosis, Respiratory\n",
      "ICD-9: ['276.2']\n",
      "\n",
      "[('NCI_NICHD', ['C50728']),\n",
      " ('BI', ['BI00356']),\n",
      " ('MSH', ['D000142']),\n",
      " ('RCD', ['C3621']),\n",
      " ('DXP', ['NOCODE', 'U003359']),\n",
      " ('AOD', ['0000005822']),\n",
      " ('WHO', ['1465']),\n",
      " ('MDR', ['10000495', '10038660', '10038661']),\n",
      " ('MEDCIN', ['33074']),\n",
      " ('ICD10CM', ['E87.2'])]\n"
     ]
    }
   ],
   "source": [
    "print umls_shelve_dict[key].cui\n",
    "print umls_shelve_dict[key].name\n",
    "# ICD-9 code\n",
    "print 'ICD-9: ' + str(umls_shelve_dict[key].codes['MTHICD9']) + '\\n'\n",
    "pprint(umls_shelve_dict[key].codes.items()[0:10])"
   ]
  },
  {
   "cell_type": "markdown",
   "metadata": {},
   "source": [
    "### Relationships:"
   ]
  },
  {
   "cell_type": "code",
   "execution_count": 96,
   "metadata": {
    "collapsed": false
   },
   "outputs": [
    {
     "name": "stdout",
     "output_type": "stream",
     "text": [
      "CUI:\tC0000833\n",
      "NAME:\tAbscess\n",
      "TYPES:\t[('Disease or Syndrome', 'B2.2.1.2.1')]\n",
      "13\t NAMES \t27\t CODES \t12\t DEFINITIONS \t1327\t RELATIONS \n",
      "\n",
      "Relationship example 1: C0000833 <-- C0007557\n",
      "[('RO', 'may_treat')]\n",
      "C0007557 name: Cefoxitin\n",
      "C0007557 definition: A semisynthetic cephamycin antibiotic resistant to beta-lactamase.\n",
      "\n",
      "Relationship example 2: C0000833 <-- C0002895\n",
      "[('RQ', 'clinically_associated_with')]\n",
      "C0002895 name: Anemia, Sickle Cell\n",
      "C0002895 definition: A disease characterized by chronic hemolytic anemia, episodic painful crises, and pathologic involvement of many organs. It is the clinical expression of homozygosity for hemoglobin S.\n"
     ]
    }
   ],
   "source": [
    "key = 'C0000833'\n",
    "print umls_shelve_dict[key]\n",
    "\n",
    "# Relationship 1\n",
    "key2 = 'C0007557'\n",
    "print 'Relationship example 1: ' + str(key) + ' <-- ' + str(key2) \n",
    "print umls_shelve_dict[key].relation_cuis[key2]\n",
    "print str(key2) + ' name: ' + str(umls_shelve_dict[key2].name)\n",
    "print str(key2) + ' definition: ' + str(umls_shelve_dict[key2].definitions[0])\n",
    "\n",
    "# Relationship 2\n",
    "key3 = 'C0002895'\n",
    "print '\\nRelationship example 2: '+ str(key) + ' <-- ' + str(key3) \n",
    "print umls_shelve_dict[key].relation_cuis[key3]\n",
    "print str(key3) + ' name: ' + str(umls_shelve_dict[key3].name)\n",
    "print str(key3) + ' definition: ' + str(umls_shelve_dict[key3].definitions[0])\n"
   ]
  },
  {
   "cell_type": "code",
   "execution_count": 98,
   "metadata": {
    "collapsed": false
   },
   "outputs": [
    {
     "name": "stdout",
     "output_type": "stream",
     "text": [
      "CUI:\tC0001127\n",
      "NAME:\tAcidosis, Respiratory\n",
      "TYPES:\t[('Disease or Syndrome', 'B2.2.1.2.1')]\n",
      "20\t NAMES \t22\t CODES \t12\t DEFINITIONS \t249\t RELATIONS \n",
      "\n",
      "Relationship example 1: C0001127 <-- C0004096\n",
      "[('RQ', 'clinically_associated_with')]\n",
      "C0004096 name: Asthma\n",
      "C0004096 definition: A form of bronchial disorder with three distinct components: airway hyper-responsiveness (RESPIRATORY HYPERSENSITIVITY), airway INFLAMMATION, and intermittent AIRWAY OBSTRUCTION. It is characterized by spasmodic contraction of airway smooth muscle, WHEEZING, and dyspnea (DYSPNEA, PAROXYSMAL).\n",
      "\n",
      "Relationship example 2: C0001127 <-- C0002063\n",
      "[('RQ', 'clinically_associated_with'), ('SIB', '')]\n",
      "C0002063 name: Alkalosis\n",
      "C0002063 definition: A pathological condition that removes acid or adds base to the body fluids.\n"
     ]
    }
   ],
   "source": [
    "key = 'C0001127'\n",
    "print umls_shelve_dict[key]\n",
    "\n",
    "# Relationship 1\n",
    "key2 = 'C0004096'\n",
    "print 'Relationship example 1: ' + str(key) + ' <-- ' + str(key2) \n",
    "print umls_shelve_dict[key].relation_cuis[key2]\n",
    "print str(key2) + ' name: ' + str(umls_shelve_dict[key2].name)\n",
    "print str(key2) + ' definition: ' + str(umls_shelve_dict[key2].definitions[0])\n",
    "\n",
    "\n",
    "# Relationship 2\n",
    "key3 = 'C0002063'\n",
    "print '\\nRelationship example 2: '+ str(key) + ' <-- ' + str(key3) \n",
    "print umls_shelve_dict[key].relation_cuis[key3]\n",
    "print str(key3) + ' name: ' + str(umls_shelve_dict[key3].name)\n",
    "print str(key3) + ' definition: ' + str(umls_shelve_dict[key3].definitions[0])\n"
   ]
  },
  {
   "cell_type": "markdown",
   "metadata": {},
   "source": []
  },
  {
   "cell_type": "markdown",
   "metadata": {},
   "source": [
    "# UMLS Index File"
   ]
  },
  {
   "cell_type": "markdown",
   "metadata": {},
   "source": [
    "Python dictionaries with different lookup keys mapping to CUI."
   ]
  },
  {
   "cell_type": "markdown",
   "metadata": {},
   "source": [
    "## Load umls index:"
   ]
  },
  {
   "cell_type": "code",
   "execution_count": null,
   "metadata": {
    "collapsed": true
   },
   "outputs": [],
   "source": [
    "umls_index = pickle.load(open(dataDir + 'umls_index.pk'))"
   ]
  },
  {
   "cell_type": "markdown",
   "metadata": {},
   "source": [
    "### Lookup query examples"
   ]
  },
  {
   "cell_type": "markdown",
   "metadata": {},
   "source": [
    "#### Query by ICD-9 code"
   ]
  },
  {
   "cell_type": "code",
   "execution_count": 115,
   "metadata": {
    "collapsed": false
   },
   "outputs": [
    {
     "data": {
      "text/plain": [
       "['C0001125', 'C0001127', 'C0001122']"
      ]
     },
     "execution_count": 115,
     "metadata": {},
     "output_type": "execute_result"
    }
   ],
   "source": [
    "umls_index.mappings['MTHICD9']['276.2']"
   ]
  },
  {
   "cell_type": "code",
   "execution_count": 116,
   "metadata": {
    "collapsed": true
   },
   "outputs": [],
   "source": [
    "def printUMLSBatch(lsKeys, umls_shelve_dict):\n",
    "    for key in lsKeys:\n",
    "        print umls_shelve_dict[key]"
   ]
  },
  {
   "cell_type": "code",
   "execution_count": 117,
   "metadata": {
    "collapsed": false
   },
   "outputs": [
    {
     "name": "stdout",
     "output_type": "stream",
     "text": [
      "CUI:\tC0001125\n",
      "NAME:\tAcidosis, Lactic\n",
      "TYPES:\t[('Disease or Syndrome', 'B2.2.1.2.1')]\n",
      "13\t NAMES \t21\t CODES \t8\t DEFINITIONS \t295\t RELATIONS \n",
      "\n",
      "CUI:\tC0001127\n",
      "NAME:\tAcidosis, Respiratory\n",
      "TYPES:\t[('Disease or Syndrome', 'B2.2.1.2.1')]\n",
      "20\t NAMES \t22\t CODES \t12\t DEFINITIONS \t249\t RELATIONS \n",
      "\n",
      "CUI:\tC0001122\n",
      "NAME:\tAcidosis\n",
      "TYPES:\t[('Pathologic Function', 'B2.2.1.2')]\n",
      "12\t NAMES \t26\t CODES \t14\t DEFINITIONS \t315\t RELATIONS \n",
      "\n"
     ]
    }
   ],
   "source": [
    "printUMLSBatch(umls_index.mappings['MTHICD9']['276.2'], umls_shelve_dict)"
   ]
  },
  {
   "cell_type": "markdown",
   "metadata": {},
   "source": [
    "#### Lookup by string"
   ]
  },
  {
   "cell_type": "code",
   "execution_count": 118,
   "metadata": {
    "collapsed": false
   },
   "outputs": [
    {
     "data": {
      "text/plain": [
       "['C0002871']"
      ]
     },
     "execution_count": 118,
     "metadata": {},
     "output_type": "execute_result"
    }
   ],
   "source": [
    "umls_index.mappings['STRING']['anaemia']"
   ]
  },
  {
   "cell_type": "code",
   "execution_count": 119,
   "metadata": {
    "collapsed": false
   },
   "outputs": [
    {
     "name": "stdout",
     "output_type": "stream",
     "text": [
      "CUI:\tC0002871\n",
      "NAME:\tAnemia\n",
      "TYPES:\t[('Disease or Syndrome', 'B2.2.1.2.1')]\n",
      "30\t NAMES \t46\t CODES \t16\t DEFINITIONS \t0\t RELATIONS \n",
      "\n"
     ]
    }
   ],
   "source": [
    "printUMLSBatch(umls_index.mappings['STRING']['anaemia'], umls_shelve_dict)"
   ]
  },
  {
   "cell_type": "code",
   "execution_count": 120,
   "metadata": {
    "collapsed": false
   },
   "outputs": [],
   "source": [
    "# All possible keys to use\n",
    "#umls_index.mappings.keys()"
   ]
  },
  {
   "cell_type": "markdown",
   "metadata": {},
   "source": []
  },
  {
   "cell_type": "markdown",
   "metadata": {},
   "source": [
    "## More UMLS shelve query examples"
   ]
  },
  {
   "cell_type": "markdown",
   "metadata": {},
   "source": [
    "#### 1. Extract all CUIs that has semantic type as 'Disease or Syndrome'"
   ]
  },
  {
   "cell_type": "code",
   "execution_count": 39,
   "metadata": {
    "collapsed": false
   },
   "outputs": [],
   "source": [
    "def getDisease(umls_shelve_dict):\n",
    "    lsKey = []\n",
    "    for key in umls_shelve_dict.keys():\n",
    "        if str(umls_shelve_dict[key].semantic_types[0][0])== 'Disease or Syndrome':\n",
    "            lsKey.append(key)\n",
    "    return lsKey"
   ]
  },
  {
   "cell_type": "code",
   "execution_count": 41,
   "metadata": {
    "collapsed": false
   },
   "outputs": [],
   "source": [
    "lsDiseaseKey = getDisease(umls_shelve_dict)"
   ]
  },
  {
   "cell_type": "markdown",
   "metadata": {},
   "source": [
    "#### 2. Given a set of CUIs, extract those with at least one relationships"
   ]
  },
  {
   "cell_type": "code",
   "execution_count": 86,
   "metadata": {
    "collapsed": false
   },
   "outputs": [],
   "source": [
    "def getCuiWithRelation(lsKey):\n",
    "    lsCntRelation2 = []\n",
    "    for key in lsKey:\n",
    "        cntRelation = len(umls_shelve_dict[key].relation_cuis)\n",
    "        if cntRelation > 0:\n",
    "            lsCntRelation2.append((key, cntRelation))\n",
    "    return lsCntRelation2"
   ]
  },
  {
   "cell_type": "code",
   "execution_count": 87,
   "metadata": {
    "collapsed": false
   },
   "outputs": [],
   "source": [
    "lsCntRelation2 = getCuiWithRelation(lsDiseaseKey)"
   ]
  },
  {
   "cell_type": "code",
   "execution_count": 88,
   "metadata": {
    "collapsed": false
   },
   "outputs": [
    {
     "data": {
      "text/plain": [
       "[('C0000833', 1327),\n",
       " ('C0001083', 1),\n",
       " ('C0001080', 232),\n",
       " ('C0001169', 63),\n",
       " ('C0001163', 143),\n",
       " ('C0001125', 295),\n",
       " ('C0001127', 249),\n",
       " ('C0001126', 210),\n",
       " ('C0000809', 99),\n",
       " ('C0000814', 478),\n",
       " ('C0001139', 222),\n",
       " ('C0000880', 105),\n",
       " ('C0000889', 187),\n",
       " ('C0001142', 21),\n",
       " ('C0001145', 131),\n",
       " ('C0001144', 382),\n",
       " ('C0000744', 81),\n",
       " ('C0000774', 78),\n",
       " ('C0000823', 87)]"
      ]
     },
     "execution_count": 88,
     "metadata": {},
     "output_type": "execute_result"
    }
   ],
   "source": [
    "lsCntRelation2"
   ]
  },
  {
   "cell_type": "markdown",
   "metadata": {},
   "source": [
    "#### 3. Find cases where the relationship has description and the related CUI exists in current dictionary "
   ]
  },
  {
   "cell_type": "code",
   "execution_count": 89,
   "metadata": {
    "collapsed": false
   },
   "outputs": [],
   "source": [
    "allKeys = umls_shelve_dict.keys()\n",
    "lsExample = []\n",
    "for pair in lsCntRelation2:\n",
    "    key = pair[0]\n",
    "    lsRelationKey = umls_shelve_dict[key].relation_cuis.keys()\n",
    "    for key2 in lsRelationKey:\n",
    "        if (key2 in allKeys) & (key2 != key):\n",
    "            if umls_shelve_dict[key].relation_cuis[key2][0][1] != '':\n",
    "                example = (key, key2, umls_shelve_dict[key].relation_cuis[key2])\n",
    "                lsExample.append(example)"
   ]
  },
  {
   "cell_type": "code",
   "execution_count": 90,
   "metadata": {
    "collapsed": false
   },
   "outputs": [
    {
     "data": {
      "text/plain": [
       "[('C0000833', 'C0001304', [('CHD', 'isa'), ('RN', '')]),\n",
       " ('C0000833', 'C0007557', [('RO', 'may_treat')]),\n",
       " ('C0000833', 'C0004623', [('RO', 'parent_is_cdrh'), ('SIB', '')]),\n",
       " ('C0000833',\n",
       "  'C0007645',\n",
       "  [('RB', 'mapped_from'), ('RL', 'mapped_from'), ('RQ', ''), ('RB', '')]),\n",
       " ('C0000833', 'C0004611', [('RO', 'causative_agent_of')]),\n",
       " ('C0000833', 'C0002895', [('RQ', 'clinically_associated_with')]),\n",
       " ('C0000833', 'C0007555', [('RO', 'may_treat')]),\n",
       " ('C0000833',\n",
       "  'C0006105',\n",
       "  [('RO', 'has_associated_morphology'),\n",
       "   ('RO', 'associated_with'),\n",
       "   ('CHD', ''),\n",
       "   ('RN', '')]),\n",
       " ('C0001080',\n",
       "  'C0008449',\n",
       "  [('RQ', 'mapped_from'),\n",
       "   ('RQ', 'primary_mapped_to'),\n",
       "   ('SIB', ''),\n",
       "   ('RQ', ''),\n",
       "   ('RQ', 'classifies'),\n",
       "   ('RL', 'mapped_from')]),\n",
       " ('C0001080', 'C0008073', [('RO', 'parent_is_nichd')]),\n",
       " ('C0001163', 'C0006111', [('PAR', 'inverse_isa')]),\n",
       " ('C0001125',\n",
       "  'C0001122',\n",
       "  [('RQ', 'mapped_from'),\n",
       "   ('SIB', ''),\n",
       "   ('PAR', ''),\n",
       "   ('PAR', 'inverse_isa'),\n",
       "   ('RQ', ''),\n",
       "   ('RO', 'mapped_from'),\n",
       "   ('RB', ''),\n",
       "   ('RL', 'mapped_from')]),\n",
       " ('C0001127', 'C0002063', [('RQ', 'clinically_associated_with'), ('SIB', '')]),\n",
       " ('C0001127', 'C0004096', [('RQ', 'clinically_associated_with')]),\n",
       " ('C0001127',\n",
       "  'C0007012',\n",
       "  [('RO', 'contraindicated_with_disease'), ('RO', 'induces')]),\n",
       " ('C0001127',\n",
       "  'C0001122',\n",
       "  [('RQ', 'mapped_from'),\n",
       "   ('SIB', ''),\n",
       "   ('PAR', ''),\n",
       "   ('PAR', 'inverse_isa'),\n",
       "   ('RQ', ''),\n",
       "   ('RO', 'mapped_from'),\n",
       "   ('RB', ''),\n",
       "   ('RL', 'mapped_from')]),\n",
       " ('C0001127', 'C0002615', [('RO', 'contraindicated_with_disease')]),\n",
       " ('C0001126', 'C0002895', [('RQ', 'clinically_associated_with')]),\n",
       " ('C0000814',\n",
       "  'C0000786',\n",
       "  [('PAR', 'inverse_isa'),\n",
       "   ('PAR', ''),\n",
       "   ('SIB', ''),\n",
       "   ('RB', 'mapped_from'),\n",
       "   ('RO', '')]),\n",
       " ('C0001139', 'C0007560', [('RO', 'may_treat')]),\n",
       " ('C0001139', 'C0007554', [('RO', 'may_treat')]),\n",
       " ('C0001139', 'C0007559', [('RO', 'may_treat')]),\n",
       " ('C0000880', 'C0000879', [('RO', 'causative_agent_of')]),\n",
       " ('C0001145', 'C0004611', [('RO', 'causative_agent_of')]),\n",
       " ('C0001144', 'C0005088', [('RO', 'may_treat')]),\n",
       " ('C0000744', 'C0004134', [('RO', 'manifestation_of')])]"
      ]
     },
     "execution_count": 90,
     "metadata": {},
     "output_type": "execute_result"
    }
   ],
   "source": [
    "lsExample"
   ]
  }
 ],
 "metadata": {
  "kernelspec": {
   "display_name": "Python 2",
   "language": "python",
   "name": "python2"
  },
  "language_info": {
   "codemirror_mode": {
    "name": "ipython",
    "version": 2
   },
   "file_extension": ".py",
   "mimetype": "text/x-python",
   "name": "python",
   "nbconvert_exporter": "python",
   "pygments_lexer": "ipython2",
   "version": "2.7.12"
  }
 },
 "nbformat": 4,
 "nbformat_minor": 0
}
