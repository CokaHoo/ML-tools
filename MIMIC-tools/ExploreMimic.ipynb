{
 "cells": [
  {
   "cell_type": "code",
   "execution_count": 1,
   "metadata": {
    "collapsed": true
   },
   "outputs": [],
   "source": [
    "import shelve\n",
    "\n",
    "import cPickle as pickle\n",
    "\n",
    "from os.path import join as pjoin\n",
    "\n",
    "from MimicPatient import *\n",
    "from MimicEvent import *\n",
    "from Utils import *\n",
    "\n",
    "patients_list = pickle.load(open('/data/ml2/MIMIC3/processed/patients_list.pk'))\n",
    "patients      = shelve.open('/data/ml2/MIMIC3/processed/patients.shlf')\n"
   ]
  },
  {
   "cell_type": "markdown",
   "metadata": {},
   "source": [
    "## Patient overview"
   ]
  },
  {
   "cell_type": "code",
   "execution_count": 28,
   "metadata": {
    "collapsed": false
   },
   "outputs": [
    {
     "name": "stdout",
     "output_type": "stream",
     "text": [
      "---------------- PATIENT \t787\n",
      "--GENDER-- F\t --DOB-- 2062-07-30 00:00:00\t --DOD-- 2143-01-09 00:00:00\t --Hosp_EXPIRED-- N\n",
      "---------------- ADMISSIONS \t3\n",
      "----ADMISSION-- \t --START-- 0001-01-01 00:00:00\t --END-- 0001-01-01 00:00:00\n",
      "0 CPT EVENTS \t0 ICU STAYS \t910 LABS \t0 MICROBIOLOGY \t0 DRUGS BILLED \n",
      "0 PRESCRIPTIONS \t0 PROCEDURES \t0 DIAGNOSES \t8 NOTES\n",
      "-------------- \n",
      "----ADMISSION-- 181463\t --START-- 2142-01-31 18:55:00\t --END-- 2142-02-06 16:48:00\n",
      "0 CPT EVENTS \t1 ICU STAYS \t278 LABS \t0 MICROBIOLOGY \t1 DRUGS BILLED \n",
      "44 PRESCRIPTIONS \t3 PROCEDURES \t9 DIAGNOSES \t11 NOTES\n",
      "-------------- \n",
      "----ADMISSION-- 179228\t --START-- 2142-06-16 03:57:00\t --END-- 2142-07-02 20:00:00\n",
      "11 CPT EVENTS \t2 ICU STAYS \t828 LABS \t10 MICROBIOLOGY \t1 DRUGS BILLED \n",
      "84 PRESCRIPTIONS \t12 PROCEDURES \t9 DIAGNOSES \t34 NOTES\n",
      "-------------- \n",
      "\n"
     ]
    }
   ],
   "source": [
    "print(patients['787'])"
   ]
  },
  {
   "cell_type": "markdown",
   "metadata": {},
   "source": [
    "## Admission overview"
   ]
  },
  {
   "cell_type": "code",
   "execution_count": 29,
   "metadata": {
    "collapsed": false
   },
   "outputs": [
    {
     "name": "stdout",
     "output_type": "stream",
     "text": [
      "2142-06-16 03:57:00\t ADMISSION \t179228\n",
      "EMERGENCY\t IN \tEMERGENCY ROOM ADMIT\t OUT \tSNF\n",
      "LANG \t\t REL \tEPISCOPALIAN\tMARRIED \tDIVORCED\t ETHNO \tBLACK/AFRICAN AMERICAN\n",
      "----- 11 CPT EVENTS \n",
      "2142-06-24 00:00:00 -- CPT \t --DESCRIPTION-- Medicine -- Pulmonary\n",
      "2142-06-26 00:00:00 -- CPT \t --DESCRIPTION-- Medicine -- Pulmonary\n",
      "2142-06-27 00:00:00 -- CPT \t --DESCRIPTION-- Medicine -- Pulmonary\n",
      "2142-07-02 20:00:00 -- CPT \t --DESCRIPTION-- Evaluation and management -- Critical care services\n",
      "2142-07-02 20:00:00 -- CPT \t --DESCRIPTION-- Evaluation and management -- Critical care services\n",
      "----- 2 ICU ADMISSIONS \n",
      "2142-06-16 03:59:01 -- ICU STAY \t --START-- 2142-06-16 03:59:01 --AT-- MICU\t --END-- 2142-06-20 16:37:16 --AT-- MICU\n",
      "2142-06-22 19:06:36 -- ICU STAY \t --START-- 2142-06-22 19:06:36 --AT-- MICU\t --END-- 2142-06-28 15:31:11 --AT-- MICU\n",
      "----- 828 LABS \n",
      "2142-06-16 00:30:00 -- LAB \t --NAME-- ANION GAP\t --LOINC-- 1863-0\t --STATUS-- \n",
      "2142-06-16 00:30:00 -- LAB \t --NAME-- BICARBONATE\t --LOINC-- 1963-8\t --STATUS-- \n",
      "2142-06-16 00:30:00 -- LAB \t --NAME-- CHLORIDE\t --LOINC-- 2075-0\t --STATUS-- \n",
      "2142-06-16 00:30:00 -- LAB \t --NAME-- CREATININE\t --LOINC-- 2160-0\t --STATUS-- abnormal\n",
      "2142-06-16 00:30:00 -- LAB \t --NAME-- GLUCOSE\t --LOINC-- 2345-7\t --STATUS-- abnormal\n",
      "----- 10 MICROBIOLOGY \n",
      "2142-06-22 11:00:00 -- MICROBIOLOGY \t --DESCRIPTION-- URINE\t --INTERPRETATION-- S\n",
      "2142-06-22 11:00:00 -- MICROBIOLOGY \t --DESCRIPTION-- URINE\t --INTERPRETATION-- S\n",
      "2142-06-22 11:00:00 -- MICROBIOLOGY \t --DESCRIPTION-- URINE\t --INTERPRETATION-- S\n",
      "2142-06-22 11:00:00 -- MICROBIOLOGY \t --DESCRIPTION-- URINE\t --INTERPRETATION-- R\n",
      "2142-06-22 11:00:00 -- MICROBIOLOGY \t --DESCRIPTION-- URINE\t --INTERPRETATION-- S\n",
      "----- 1 DRUGS \n",
      "2142-07-02 20:00:00 -- DRUG_BILL \t --DESCRIPTION-- MAJOR SMALL & LARGE \t --SEVERITY-- ('', '')\n",
      "----- 84 PRESCRIPTIONS \n",
      "2142-06-16 00:00:00 -- PRESCRIPTION \t --NAME-- Acetaminophen -- ACET325 --ROUTE-- PO\t --NDC-- 00045050130\n",
      "2142-06-16 00:00:00 -- PRESCRIPTION \t --NAME-- Insulin -- INSULIN --ROUTE-- SC\t --NDC-- 0\n",
      "2142-06-16 00:00:00 -- PRESCRIPTION \t --NAME-- Insulin -- INNHI --ROUTE-- SC\t --NDC-- 00002831501\n",
      "2142-06-16 00:00:00 -- PRESCRIPTION \t --NAME-- Citalopram Hydrobromide -- CITA20 --ROUTE-- PO\t --NDC-- 00456402063\n",
      "2142-06-16 00:00:00 -- PRESCRIPTION \t --NAME-- Morphine Sulfate -- MORP2I --ROUTE-- IV\t --NDC-- 00074176201\n",
      "----- 12 PROCEDURES \n",
      "2142-07-02 20:00:00 -- PROCEDURE \t --NAME-- Opn rt hemicolectomy NEC\t --ICD9-- 4573\n",
      "2142-07-02 20:00:00 -- PROCEDURE \t --NAME-- Clos large bowel biopsy\t --ICD9-- 4525\n",
      "2142-07-02 20:00:00 -- PROCEDURE \t --NAME-- Endosc destru lg int les\t --ICD9-- 4543\n",
      "2142-07-02 20:00:00 -- PROCEDURE \t --NAME-- Oth periton adhesiolysis\t --ICD9-- 5459\n",
      "2142-07-02 20:00:00 -- PROCEDURE \t --NAME-- Inject/infus nesiritide\t --ICD9-- 0013\n",
      "----- 9 DIAGNOSES \n",
      "2142-07-02 20:00:00 -- DIAGNOSIS \t --NAME-- Gastrointest hemorr NOS\t --ICD9-- 5789\n",
      "2142-07-02 20:00:00 -- DIAGNOSIS \t --NAME-- CHF NOS\t --ICD9-- 4280\n",
      "2142-07-02 20:00:00 -- DIAGNOSIS \t --NAME-- Ac kidny fail, tubr necr\t --ICD9-- 5845\n",
      "2142-07-02 20:00:00 -- DIAGNOSIS \t --NAME-- Mitral valve disorder\t --ICD9-- 4240\n",
      "2142-07-02 20:00:00 -- DIAGNOSIS \t --NAME-- Atrial fibrillation\t --ICD9-- 42731\n",
      "----- 34 NOTES \n",
      "2142-06-16 -- NOTE \t --NOTE_TYPE-- ECG --Report\t \n",
      " Atrial fibrillation \n",
      " Inferior infarct - age undetermined \n",
      " Possible anterior infarct - age undetermined \n",
      " Lateral ST-T changes offer additional evidence of ischemia \n",
      " Repolarization changes may be...\n",
      "2142-06-16 -- NOTE \t --NOTE_TYPE-- Nursing/other --Report\t \n",
      " nsg addendum-code status \n",
      " It was discussed in rounds and is documented that pt has wishes of being a DNR/DNI  however there is no order in the chart. Discussed with Dr.[**Last Name (STitle) 603**]...\n",
      "2142-06-16 -- NOTE \t --NOTE_TYPE-- Nursing/other --Report\t \n",
      " MICU-B, NPN: \n",
      " Pt. received when nuc. med. study finished.  Drew labs shortly after arrival to unit- Hct back @ 25.9, hung 1 UPRBC- needs another unit.  Pt. transported to angio. to stop bleed- wil...\n",
      "2142-06-16 -- NOTE \t --NOTE_TYPE-- Nursing/other --Report\t \n",
      " nsg progress  note 7a-7p \n",
      " Neuro: alert and oriented X3. no deficits. MAE's. Denies pain. \n",
      " CV: Bp very stable all day. 98-120's/50's. HR afib/aflutter with occassional PVC's rate 80's. Added on K+...\n",
      "2142-06-17 -- NOTE \t --NOTE_TYPE-- Nursing/other --Report\t \n",
      " nsg progress note 7a-7p \n",
      " Neuro: A+O X3. No deficits. MAe's. Got out of bed to chair with PT using walker with good efforts. Sat up in chair most of the day. Denies pain. \n",
      " CV: VSS. see careview. B...\n",
      "\n"
     ]
    }
   ],
   "source": [
    "admission = patients['787'].admissions['179228']\n",
    "\n",
    "print(admission)"
   ]
  },
  {
   "cell_type": "markdown",
   "metadata": {},
   "source": [
    "#### All CPT events for the admission"
   ]
  },
  {
   "cell_type": "code",
   "execution_count": 30,
   "metadata": {
    "collapsed": false
   },
   "outputs": [
    {
     "name": "stdout",
     "output_type": "stream",
     "text": [
      "2142-07-02 20:00:00 -- CPT \t --DESCRIPTION-- Evaluation and management -- Critical care services\n",
      "2142-07-02 20:00:00 -- CPT \t --DESCRIPTION-- Evaluation and management -- Critical care services\n",
      "2142-07-02 20:00:00 -- CPT \t --DESCRIPTION-- Evaluation and management -- Hospital inpatient services\n",
      "2142-07-02 20:00:00 -- CPT \t --DESCRIPTION-- Evaluation and management -- Hospital inpatient services\n",
      "2142-07-02 20:00:00 -- CPT \t --DESCRIPTION-- Evaluation and management -- Critical care services\n",
      "2142-07-02 20:00:00 -- CPT \t --DESCRIPTION-- Evaluation and management -- Hospital inpatient services\n",
      "2142-07-02 20:00:00 -- CPT \t --DESCRIPTION-- Evaluation and management -- Hospital inpatient services\n",
      "2142-07-02 20:00:00 -- CPT \t --DESCRIPTION-- Evaluation and management -- Follow-up inpatient consultations (deleted codes)\n",
      "2142-06-27 00:00:00 -- CPT \t --DESCRIPTION-- Medicine -- Pulmonary\n",
      "2142-06-24 00:00:00 -- CPT \t --DESCRIPTION-- Medicine -- Pulmonary\n",
      "2142-06-26 00:00:00 -- CPT \t --DESCRIPTION-- Medicine -- Pulmonary\n"
     ]
    }
   ],
   "source": [
    "for i, cpt in enumerate(admission.cpt_events):\n",
    "    print cpt"
   ]
  },
  {
   "cell_type": "markdown",
   "metadata": {},
   "source": [
    "#### All ICU stays for the admission"
   ]
  },
  {
   "cell_type": "code",
   "execution_count": 31,
   "metadata": {
    "collapsed": false
   },
   "outputs": [
    {
     "name": "stdout",
     "output_type": "stream",
     "text": [
      "2142-06-16 03:59:01 -- ICU STAY \t --START-- 2142-06-16 03:59:01 --AT-- MICU\t --END-- 2142-06-20 16:37:16 --AT-- MICU\n",
      "2142-06-22 19:06:36 -- ICU STAY \t --START-- 2142-06-22 19:06:36 --AT-- MICU\t --END-- 2142-06-28 15:31:11 --AT-- MICU\n"
     ]
    }
   ],
   "source": [
    "for i, icu in enumerate(admission.icu_events):\n",
    "    print icu\n"
   ]
  },
  {
   "cell_type": "markdown",
   "metadata": {},
   "source": [
    "#### All labs for the admission"
   ]
  },
  {
   "cell_type": "code",
   "execution_count": 32,
   "metadata": {
    "collapsed": false
   },
   "outputs": [
    {
     "name": "stdout",
     "output_type": "stream",
     "text": [
      "2142-06-16 00:30:00 -- LAB \t --NAME-- ANION GAP\t --LOINC-- 1863-0\t --STATUS-- \n",
      "2142-06-16 00:30:00 -- LAB \t --NAME-- BICARBONATE\t --LOINC-- 1963-8\t --STATUS-- \n",
      "2142-06-16 00:30:00 -- LAB \t --NAME-- CHLORIDE\t --LOINC-- 2075-0\t --STATUS-- \n",
      "2142-06-16 00:30:00 -- LAB \t --NAME-- CREATININE\t --LOINC-- 2160-0\t --STATUS-- abnormal\n",
      "2142-06-16 00:30:00 -- LAB \t --NAME-- GLUCOSE\t --LOINC-- 2345-7\t --STATUS-- abnormal\n",
      "2142-06-16 00:30:00 -- LAB \t --NAME-- POTASSIUM\t --LOINC-- 2823-3\t --STATUS-- \n",
      "2142-06-16 00:30:00 -- LAB \t --NAME-- SODIUM\t --LOINC-- 2951-2\t --STATUS-- \n",
      "2142-06-16 00:30:00 -- LAB \t --NAME-- UREA NITROGEN\t --LOINC-- 3094-0\t --STATUS-- abnormal\n",
      "2142-06-16 00:30:00 -- LAB \t --NAME-- HEMATOCRIT\t --LOINC-- 4544-3\t --STATUS-- abnormal\n",
      "2142-06-16 00:30:00 -- LAB \t --NAME-- HEMOGLOBIN\t --LOINC-- 718-7\t --STATUS-- abnormal\n",
      "2142-06-16 00:30:00 -- LAB \t --NAME-- INR(PT)\t --LOINC-- 5895-7\t --STATUS-- \n",
      "2142-06-16 00:30:00 -- LAB \t --NAME-- MCH\t --LOINC-- 785-6\t --STATUS-- \n",
      "2142-06-16 00:30:00 -- LAB \t --NAME-- MCHC\t --LOINC-- 786-4\t --STATUS-- \n",
      "2142-06-16 00:30:00 -- LAB \t --NAME-- MCV\t --LOINC-- 787-2\t --STATUS-- \n",
      "2142-06-16 00:30:00 -- LAB \t --NAME-- PLATELET COUNT\t --LOINC-- 777-3\t --STATUS-- \n",
      "2142-06-16 00:30:00 -- LAB \t --NAME-- PT\t --LOINC-- 5902-2\t --STATUS-- abnormal\n",
      "2142-06-16 00:30:00 -- LAB \t --NAME-- PTT\t --LOINC-- 3173-2\t --STATUS-- \n",
      "2142-06-16 00:30:00 -- LAB \t --NAME-- RDW\t --LOINC-- 788-0\t --STATUS-- abnormal\n",
      "2142-06-16 00:30:00 -- LAB \t --NAME-- RED BLOOD CELLS\t --LOINC-- 789-8\t --STATUS-- abnormal\n",
      "2142-06-16 00:30:00 -- LAB \t --NAME-- WHITE BLOOD CELLS\t --LOINC-- 804-5\t --STATUS-- \n",
      "2142-06-16 00:37:00 -- LAB \t --NAME-- HEMATOCRIT, CALCULATED\t --LOINC-- 20570-8\t --STATUS-- \n",
      "2142-06-16 00:37:00 -- LAB \t --NAME-- HEMOGLOBIN\t --LOINC-- 718-7\t --STATUS-- abnormal\n",
      "2142-06-16 01:45:00 -- LAB \t --NAME-- BACTERIA\t --LOINC-- 5769-5\t --STATUS-- \n",
      "2142-06-16 01:45:00 -- LAB \t --NAME-- BILIRUBIN\t --LOINC-- 5770-3\t --STATUS-- \n",
      "2142-06-16 01:45:00 -- LAB \t --NAME-- BLOOD\t --LOINC-- 5794-3\t --STATUS-- \n"
     ]
    }
   ],
   "source": [
    "for i, lab in enumerate(admission.lab_events[:25]):\n",
    "    print lab"
   ]
  },
  {
   "cell_type": "markdown",
   "metadata": {},
   "source": [
    "#### All microbiology events for the admission"
   ]
  },
  {
   "cell_type": "code",
   "execution_count": 33,
   "metadata": {
    "collapsed": false
   },
   "outputs": [
    {
     "name": "stdout",
     "output_type": "stream",
     "text": [
      "2142-06-22 11:00:00 -- MICROBIOLOGY \t --DESCRIPTION-- URINE\t --INTERPRETATION-- S\n",
      "2142-06-22 11:00:00 -- MICROBIOLOGY \t --DESCRIPTION-- URINE\t --INTERPRETATION-- S\n",
      "2142-06-22 11:00:00 -- MICROBIOLOGY \t --DESCRIPTION-- URINE\t --INTERPRETATION-- S\n",
      "2142-06-22 11:00:00 -- MICROBIOLOGY \t --DESCRIPTION-- URINE\t --INTERPRETATION-- R\n",
      "2142-06-22 11:00:00 -- MICROBIOLOGY \t --DESCRIPTION-- URINE\t --INTERPRETATION-- S\n",
      "2142-06-25 09:00:00 -- MICROBIOLOGY \t --DESCRIPTION-- URINE\t --INTERPRETATION-- S\n",
      "2142-06-25 09:00:00 -- MICROBIOLOGY \t --DESCRIPTION-- URINE\t --INTERPRETATION-- S\n",
      "2142-06-25 09:00:00 -- MICROBIOLOGY \t --DESCRIPTION-- URINE\t --INTERPRETATION-- S\n",
      "2142-06-25 09:00:00 -- MICROBIOLOGY \t --DESCRIPTION-- URINE\t --INTERPRETATION-- S\n",
      "2142-06-25 09:00:00 -- MICROBIOLOGY \t --DESCRIPTION-- URINE\t --INTERPRETATION-- R\n"
     ]
    }
   ],
   "source": [
    "for i, micro in enumerate(admission.mic_events):\n",
    "    print micro"
   ]
  },
  {
   "cell_type": "markdown",
   "metadata": {},
   "source": [
    "#### All billed drugs for the admission"
   ]
  },
  {
   "cell_type": "code",
   "execution_count": 34,
   "metadata": {
    "collapsed": false
   },
   "outputs": [
    {
     "name": "stdout",
     "output_type": "stream",
     "text": [
      "2142-07-02 20:00:00 -- DRUG_BILL \t --DESCRIPTION-- MAJOR SMALL & LARGE \t --SEVERITY-- ('', '')\n"
     ]
    }
   ],
   "source": [
    "for i, drg in enumerate(admission.drg_events):\n",
    "    print drg"
   ]
  },
  {
   "cell_type": "markdown",
   "metadata": {},
   "source": [
    "#### All prescriptions for the admission"
   ]
  },
  {
   "cell_type": "code",
   "execution_count": 35,
   "metadata": {
    "collapsed": false
   },
   "outputs": [
    {
     "name": "stdout",
     "output_type": "stream",
     "text": [
      "2142-06-18 00:00:00 -- PRESCRIPTION \t --NAME-- Propoxyphene Nap.-Apap (N-100) -- DARV100 --ROUTE-- PO\t --NDC-- 51079032220\n",
      "2142-06-20 00:00:00 -- PRESCRIPTION \t --NAME-- Haloperidol -- HALD5I --ROUTE-- IV\t --NDC-- 00045025501\n",
      "2142-06-20 00:00:00 -- PRESCRIPTION \t --NAME-- Haloperidol -- HALD5I --ROUTE-- IV\t --NDC-- 00045025501\n",
      "2142-06-20 00:00:00 -- PRESCRIPTION \t --NAME-- Aluminum Hydroxide Suspension -- ALUMI30L --ROUTE-- PO\t --NDC-- 16837086012\n",
      "2142-06-20 00:00:00 -- PRESCRIPTION \t --NAME-- Furosemide -- FURO40I --ROUTE-- IV\t --NDC-- 00074610204\n",
      "2142-06-20 00:00:00 -- PRESCRIPTION \t --NAME-- Furosemide -- FURO40I --ROUTE-- IV\t --NDC-- 00074610204\n",
      "2142-06-21 00:00:00 -- PRESCRIPTION \t --NAME-- Pantoprazole -- PANT40 --ROUTE-- PO\t --NDC-- 00008084199\n",
      "2142-06-21 00:00:00 -- PRESCRIPTION \t --NAME-- Calcium Carbonate -- CALC500 --ROUTE-- PO\t --NDC-- 15127020017\n",
      "2142-06-22 00:00:00 -- PRESCRIPTION \t --NAME-- Aluminum Hydroxide Suspension -- ALUMI30L --ROUTE-- PO\t --NDC-- 16837086012\n",
      "2142-06-22 00:00:00 -- PRESCRIPTION \t --NAME-- Furosemide -- FURO40 --ROUTE-- PO\t --NDC-- 00054829925\n",
      "2142-06-22 00:00:00 -- PRESCRIPTION \t --NAME-- Metolazone -- METL25 --ROUTE-- PO\t --NDC-- 53014097572\n",
      "2142-06-23 00:00:00 -- PRESCRIPTION \t --NAME-- Calcium Gluconate -- CALG1I --ROUTE-- IV\t --NDC-- 00517391025\n",
      "2142-06-23 00:00:00 -- PRESCRIPTION \t --NAME-- Dextrose 50% -- DEX50SY --ROUTE-- IV\t --NDC-- 00074490223\n",
      "2142-06-23 00:00:00 -- PRESCRIPTION \t --NAME-- Dextrose 50% -- DEX50SY --ROUTE-- IV\t --NDC-- 00074490223\n",
      "2142-06-23 00:00:00 -- PRESCRIPTION \t --NAME-- Carvedilol -- CARV3125 --ROUTE-- PO\t --NDC-- 00007413920\n",
      "2142-06-24 00:00:00 -- PRESCRIPTION \t --NAME-- Estrogens Conjugated -- ESTR25I --ROUTE-- IV\t --NDC-- 00046074905\n",
      "2142-06-24 00:00:00 -- PRESCRIPTION \t --NAME-- Morphine Sulfate -- MORP2-4 --ROUTE-- IV\t --NDC-- 00074125901\n",
      "2142-06-24 00:00:00 -- PRESCRIPTION \t --NAME-- Heparin -- HEPA5I --ROUTE-- SC\t --NDC-- 00641040025\n",
      "2142-06-24 00:00:00 -- PRESCRIPTION \t --NAME-- Metoprolol -- METO5I --ROUTE-- IV\t --NDC-- 00074177825\n",
      "2142-06-25 00:00:00 -- PRESCRIPTION \t --NAME-- Magnesium Sulfate -- MAGS1I --ROUTE-- IV\t --NDC-- 00074407532\n",
      "2142-06-27 00:00:00 -- PRESCRIPTION \t --NAME-- Furosemide -- FURO40I --ROUTE-- IV\t --NDC-- 00074610204\n",
      "2142-06-27 00:00:00 -- PRESCRIPTION \t --NAME-- Calcitriol -- CALC25 --ROUTE-- PO\t --NDC-- 00004014301\n",
      "2142-06-27 00:00:00 -- PRESCRIPTION \t --NAME-- Metoprolol -- METO50 --ROUTE-- PO\t --NDC-- 62584078833\n",
      "2142-06-27 00:00:00 -- PRESCRIPTION \t --NAME-- Insulin -- INSULIN --ROUTE-- SC\t --NDC-- 0\n",
      "2142-06-16 00:00:00 -- PRESCRIPTION \t --NAME-- Acetaminophen -- ACET325 --ROUTE-- PO\t --NDC-- 00045050130\n"
     ]
    }
   ],
   "source": [
    "for i, psc in enumerate(admission.psc_events[:25]):\n",
    "    print psc"
   ]
  },
  {
   "cell_type": "markdown",
   "metadata": {},
   "source": [
    "#### All procedures for the admission"
   ]
  },
  {
   "cell_type": "code",
   "execution_count": 36,
   "metadata": {
    "collapsed": false
   },
   "outputs": [
    {
     "name": "stdout",
     "output_type": "stream",
     "text": [
      "2142-07-02 20:00:00 -- PROCEDURE \t --NAME-- Opn rt hemicolectomy NEC\t --ICD9-- 4573\n",
      "2142-07-02 20:00:00 -- PROCEDURE \t --NAME-- Clos large bowel biopsy\t --ICD9-- 4525\n",
      "2142-07-02 20:00:00 -- PROCEDURE \t --NAME-- Endosc destru lg int les\t --ICD9-- 4543\n",
      "2142-07-02 20:00:00 -- PROCEDURE \t --NAME-- Oth periton adhesiolysis\t --ICD9-- 5459\n",
      "2142-07-02 20:00:00 -- PROCEDURE \t --NAME-- Inject/infus nesiritide\t --ICD9-- 0013\n",
      "2142-07-02 20:00:00 -- PROCEDURE \t --NAME-- Venous cath NEC\t --ICD9-- 3893\n",
      "2142-07-02 20:00:00 -- PROCEDURE \t --NAME-- Parent infus nutrit sub\t --ICD9-- 9915\n",
      "2142-07-02 20:00:00 -- PROCEDURE \t --NAME-- Insert gastric tube NEC\t --ICD9-- 9607\n",
      "2142-07-02 20:00:00 -- PROCEDURE \t --NAME-- Pulmon art wedge monitor\t --ICD9-- 8964\n",
      "2142-07-02 20:00:00 -- PROCEDURE \t --NAME-- Oth cardiac mon output\t --ICD9-- 8968\n",
      "2142-07-02 20:00:00 -- PROCEDURE \t --NAME-- Contr abd arteriogrm NEC\t --ICD9-- 8847\n",
      "2142-07-02 20:00:00 -- PROCEDURE \t --NAME-- Arterial catheterization\t --ICD9-- 3891\n"
     ]
    }
   ],
   "source": [
    "for i, pcd in enumerate(admission.pcd_events):\n",
    "    print pcd"
   ]
  },
  {
   "cell_type": "markdown",
   "metadata": {},
   "source": [
    "#### All diagnoses for the admission"
   ]
  },
  {
   "cell_type": "code",
   "execution_count": 37,
   "metadata": {
    "collapsed": false
   },
   "outputs": [
    {
     "name": "stdout",
     "output_type": "stream",
     "text": [
      "2142-07-02 20:00:00 -- DIAGNOSIS \t --NAME-- Gastrointest hemorr NOS\t --ICD9-- 5789\n",
      "2142-07-02 20:00:00 -- DIAGNOSIS \t --NAME-- CHF NOS\t --ICD9-- 4280\n",
      "2142-07-02 20:00:00 -- DIAGNOSIS \t --NAME-- Ac kidny fail, tubr necr\t --ICD9-- 5845\n",
      "2142-07-02 20:00:00 -- DIAGNOSIS \t --NAME-- Mitral valve disorder\t --ICD9-- 4240\n",
      "2142-07-02 20:00:00 -- DIAGNOSIS \t --NAME-- Atrial fibrillation\t --ICD9-- 42731\n",
      "2142-07-02 20:00:00 -- DIAGNOSIS \t --NAME-- Urin tract infection NOS\t --ICD9-- 5990\n",
      "2142-07-02 20:00:00 -- DIAGNOSIS \t --NAME-- U\t --ICD9-- 2765\n",
      "2142-07-02 20:00:00 -- DIAGNOSIS \t --NAME-- Benign neoplasm lg bowel\t --ICD9-- 2113\n",
      "2142-07-02 20:00:00 -- DIAGNOSIS \t --NAME-- Anemia NOS\t --ICD9-- 2859\n"
     ]
    }
   ],
   "source": [
    "for i, dgn in enumerate(admission.dgn_events):\n",
    "    print dgn"
   ]
  },
  {
   "cell_type": "markdown",
   "metadata": {},
   "source": [
    "#### All notes for the admission"
   ]
  },
  {
   "cell_type": "code",
   "execution_count": 39,
   "metadata": {
    "collapsed": false
   },
   "outputs": [
    {
     "name": "stdout",
     "output_type": "stream",
     "text": [
      "2142-07-02 -- NOTE \t --NOTE_TYPE-- Discharge summary --Report\t \n",
      " Admission Date:  [**2535-6-18**]       Discharge Date:  [**2535-7-3**] \n",
      " Service:  GENERAL SURGERY/BLUE \n",
      " HISTORY OF PRESENT ILLNESS:  The patient is a 79 year old \n",
      " lady with diabetes mellitus, co...\n",
      "2142-06-29 -- NOTE \t --NOTE_TYPE-- ECG --Report\t \n",
      " Atrial flutter/fibrillation \n",
      " Low voltage \n",
      " Consider inferolateral myocardial infarct - may be old \n",
      " Borderline intraventricular conduction delay \n",
      " Diffuse nonspecific T wave changes \n",
      " Since previo...\n",
      "2142-06-24 -- NOTE \t --NOTE_TYPE-- ECG --Report\t \n",
      " Atrial flutter/fibrillation with ventricular premature complex \n",
      " Possible inferior infarct - age undetermined \n",
      " Diffuse ST-T changes are nonspecific \n",
      " Since previous tracing of [**2535-6-18**]: ven...\n",
      "2142-06-16 -- NOTE \t --NOTE_TYPE-- ECG --Report\t \n",
      " Atrial fibrillation \n",
      " Inferior infarct - age undetermined \n",
      " Possible anterior infarct - age undetermined \n",
      " Lateral ST-T changes offer additional evidence of ischemia \n",
      " Repolarization changes may be...\n",
      "2142-06-26 -- NOTE \t --NOTE_TYPE-- Nursing/other --Report\t \n",
      " NPN 19:00-07:00 MICU \n",
      " *Please refer to Carevue for objective data \n",
      " *Full Code \n",
      " Neuro: Arousing to voice, following commands, nodding 'yes/no' to questions; no c/o pain. MAE's on bed (lower extre...\n",
      "2142-06-19 -- NOTE \t --NOTE_TYPE-- Nursing/other --Report\t \n",
      " NPN 07:00-19:00 MICU \n",
      " *Please refer to Carevue for additional patient information \n",
      " *C/O to floor \n",
      " *DNR/DNI \n",
      " Neuro: A/O x3, oob to chair early in evening tolerated getting back in to bed well, h...\n",
      "2142-06-26 -- NOTE \t --NOTE_TYPE-- Nursing/other --Report\t \n",
      " Pt remained on full support thru/out the noc see careview mdis given as ordered spont. breating trial started at 6am [**First Name8 (NamePattern2) **] [**Last Name (un) **]. resp. status. \n",
      " ...\n",
      "2142-06-18 -- NOTE \t --NOTE_TYPE-- Nursing/other --Report\t \n",
      " S. I cannot believe I did not have any procedures yesterday \n",
      " O. Neuro alert oriented x3 mae fc \n",
      " cardiac afib freq pvc 70-80 Bp 110/54 141/61 hct 29.2 K+4.0 mag 2.0 skin w+d pp doppler +3 edema lo...\n",
      "2142-06-20 -- NOTE \t --NOTE_TYPE-- Nursing/other --Report\t \n",
      " PMICU Nursing Progress Note 7a-11a \n",
      " Summary \n",
      " Pt was calm and able to answer questions appropriately, c/o feeling tired but participating in care w/ encouragement. AXOX3. MAE, recommend OOB to cha...\n",
      "2142-06-25 -- NOTE \t --NOTE_TYPE-- Nursing/other --Report\t \n",
      " Resp. Care Note \n",
      " Pt received intubated and vented on settings PSV 5 peep 5 and 40%. TV 400-500 and RR 14 for minute ventilation 6-7L. Resp. acidosis on ABG. Pt sleepy but easily arousable. Decisio...\n"
     ]
    }
   ],
   "source": [
    "for i, note in enumerate(admission.nte_events[:10]):\n",
    "    print note\n"
   ]
  },
  {
   "cell_type": "code",
   "execution_count": null,
   "metadata": {
    "collapsed": true
   },
   "outputs": [],
   "source": []
  }
 ],
 "metadata": {
  "kernelspec": {
   "display_name": "Python 2",
   "language": "python",
   "name": "python2"
  },
  "language_info": {
   "codemirror_mode": {
    "name": "ipython",
    "version": 2
   },
   "file_extension": ".py",
   "mimetype": "text/x-python",
   "name": "python",
   "nbconvert_exporter": "python",
   "pygments_lexer": "ipython2",
   "version": "2.7.9"
  }
 },
 "nbformat": 4,
 "nbformat_minor": 0
}
