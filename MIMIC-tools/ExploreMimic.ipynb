{
 "cells": [
  {
   "cell_type": "code",
   "execution_count": 2,
   "metadata": {
    "collapsed": true
   },
   "outputs": [],
   "source": [
    "import shelve\n",
    "\n",
    "import cPickle as pickle\n",
    "\n",
    "from os.path import join as pjoin\n",
    "\n",
    "from MimicPatient import *\n",
    "from MimicEvent import *\n",
    "from Utils import *\n",
    "\n",
    "patients_list = pickle.load(open('/data/ml2/MIMIC3/processed/patients_list.pk'))\n",
    "patients      = shelve.open('/data/ml2/MIMIC3/processed/patients.shlf')\n"
   ]
  },
  {
   "cell_type": "code",
   "execution_count": 12,
   "metadata": {
    "collapsed": false
   },
   "outputs": [
    {
     "data": {
      "text/plain": [
       "'11518'"
      ]
     },
     "execution_count": 12,
     "metadata": {},
     "output_type": "execute_result"
    }
   ],
   "source": [
    "patients_list[12]"
   ]
  },
  {
   "cell_type": "code",
   "execution_count": 42,
   "metadata": {
    "collapsed": false
   },
   "outputs": [
    {
     "name": "stdout",
     "output_type": "stream",
     "text": [
      "16 3\n",
      "36 3\n",
      "59 3\n",
      "64 3\n",
      "70 3\n",
      "84 6\n",
      "89 12\n",
      "91 3\n",
      "94 3\n"
     ]
    }
   ],
   "source": [
    "for i in range(100):\n",
    "    if len(patients[patients_list[i]].admissions) > 2:\n",
    "        print i, len(patients[patients_list[i]].admissions)"
   ]
  },
  {
   "cell_type": "code",
   "execution_count": 7,
   "metadata": {
    "collapsed": false
   },
   "outputs": [],
   "source": [
    "def print_patient(patient):\n",
    "    print 'Patient', patient.patient_id, ', \\t', patient.gender\n",
    "    print(patient.dob, patient.dod, patient.expire_flag)\n",
    "    admissions = sorted(patient.admissions.items(), key=lambda x:x[1].in_time)\n",
    "    for adm_id, adm in admissions:\n",
    "        print '----------'\n",
    "        print 'admission', adm_id, 'from \\t', adm.in_time, 'to \\t', adm.out_time\n",
    "        print len(adm.cpt_events), 'CPT \\t', len(adm.icu_events), 'ICU \\t',\n",
    "        print len(adm.lab_events), 'LABS \\t', len(adm.mic_events), 'MICRO \\t',\n",
    "        print len(adm.drg_events), 'DRG \\t', len(adm.psc_events), 'PSC \\t',\n",
    "        print len(adm.pcd_events), 'PCD \\t', len(adm.dgn_events), 'DGN \\t', len(adm.nte_events), 'NOTES'\n",
    "    "
   ]
  },
  {
   "cell_type": "code",
   "execution_count": 43,
   "metadata": {
    "collapsed": false
   },
   "outputs": [
    {
     "name": "stdout",
     "output_type": "stream",
     "text": [
      "Patient 19398 , \tF\n",
      "('2059-08-12 00:00:00', '2107-09-29 00:00:00', 'Y')\n",
      "----------\n",
      "admission  from \t0001-01-01 00:00:00 to \t0001-01-01 00:00:00\n",
      "0 CPT \t0 ICU \t817 LABS \t0 MICRO \t0 DRG \t0 PSC \t0 PCD \t0 DGN \t20 NOTES\n",
      "----------\n",
      "admission 180098 from \t2104-12-17 17:25:00 to \t2104-12-20 12:00:00\n",
      "6 CPT \t1 ICU \t130 LABS \t0 MICRO \t2 DRG \t26 PSC \t2 PCD \t12 DGN \t2 NOTES\n",
      "----------\n",
      "admission 167309 from \t2107-09-18 18:28:00 to \t2107-09-29 00:45:00\n",
      "21 CPT \t2 ICU \t471 LABS \t31 MICRO \t3 DRG \t81 PSC \t3 PCD \t32 DGN \t36 NOTES\n"
     ]
    }
   ],
   "source": [
    "print_patient(patients[patients_list[16]])"
   ]
  },
  {
   "cell_type": "code",
   "execution_count": 9,
   "metadata": {
    "collapsed": false
   },
   "outputs": [
    {
     "name": "stdout",
     "output_type": "stream",
     "text": [
      "Patient 9256 , \tM\n",
      "('2137-02-08 00:00:00', '', 'N')\n",
      "----------\n",
      "admission  from \t0001-01-01 00:00:00 to \t0001-01-01 00:00:00\n",
      "0 CPT \t0 ICU \t2625 LABS \t0 MICRO \t0 DRG \t0 PSC \t0 PCD \t0 DGN \t25 NOTES\n",
      "----------\n",
      "admission 147249 from \t2187-08-13 22:07:00 to \t2187-08-16 19:00:00\n",
      "7 CPT \t1 ICU \t171 LABS \t0 MICRO \t1 DRG \t27 PSC \t4 PCD \t26 DGN \t13 NOTES\n",
      "----------\n",
      "admission 170652 from \t2187-10-01 02:11:00 to \t2187-10-02 18:35:00\n",
      "2 CPT \t1 ICU \t100 LABS \t0 MICRO \t2 DRG \t23 PSC \t3 PCD \t18 DGN \t5 NOTES\n",
      "----------\n",
      "admission 184499 from \t2187-10-12 07:39:00 to \t2187-10-17 19:00:00\n",
      "12 CPT \t1 ICU \t249 LABS \t0 MICRO \t2 DRG \t50 PSC \t3 PCD \t20 DGN \t24 NOTES\n",
      "----------\n",
      "admission 132005 from \t2188-01-08 08:17:00 to \t2188-01-11 19:10:00\n",
      "7 CPT \t1 ICU \t142 LABS \t0 MICRO \t2 DRG \t43 PSC \t1 PCD \t20 DGN \t20 NOTES\n",
      "----------\n",
      "admission 155592 from \t2189-09-01 21:24:00 to \t2189-09-07 15:04:00\n",
      "10 CPT \t1 ICU \t274 LABS \t0 MICRO \t3 DRG \t46 PSC \t4 PCD \t34 DGN \t27 NOTES\n"
     ]
    }
   ],
   "source": [
    "print_patient(patients[patients_list[84]])"
   ]
  },
  {
   "cell_type": "code",
   "execution_count": 10,
   "metadata": {
    "collapsed": false
   },
   "outputs": [
    {
     "name": "stdout",
     "output_type": "stream",
     "text": [
      "Patient 9253 , \tM\n",
      "('1931-10-10 00:00:00', '2147-09-29 00:00:00', 'Y')\n",
      "----------\n",
      "admission  from \t0001-01-01 00:00:00 to \t0001-01-01 00:00:00\n",
      "0 CPT \t0 ICU \t252 LABS \t0 MICRO \t0 DRG \t0 PSC \t0 PCD \t0 DGN \t34 NOTES\n",
      "----------\n",
      "admission 184487 from \t2141-10-08 14:25:00 to \t2141-10-17 13:25:00\n",
      "12 CPT \t1 ICU \t271 LABS \t1 MICRO \t2 DRG \t72 PSC \t2 PCD \t18 DGN \t29 NOTES\n",
      "----------\n",
      "admission 130680 from \t2141-12-10 22:54:00 to \t2141-12-21 17:45:00\n",
      "12 CPT \t1 ICU \t255 LABS \t1 MICRO \t2 DRG \t61 PSC \t2 PCD \t18 DGN \t21 NOTES\n",
      "----------\n",
      "admission 171616 from \t2142-04-23 16:35:00 to \t2142-05-03 17:30:00\n",
      "18 CPT \t1 ICU \t685 LABS \t5 MICRO \t2 DRG \t112 PSC \t4 PCD \t20 DGN \t97 NOTES\n",
      "----------\n",
      "admission 173715 from \t2142-05-21 10:58:00 to \t2142-05-29 18:00:00\n",
      "19 CPT \t1 ICU \t551 LABS \t2 MICRO \t2 DRG \t92 PSC \t7 PCD \t26 DGN \t77 NOTES\n",
      "----------\n",
      "admission 187222 from \t2142-07-13 20:53:00 to \t2142-07-19 15:30:00\n",
      "12 CPT \t1 ICU \t236 LABS \t17 MICRO \t2 DRG \t42 PSC \t6 PCD \t30 DGN \t41 NOTES\n",
      "----------\n",
      "admission 187753 from \t2143-06-24 16:40:00 to \t2143-06-26 16:23:00\n",
      "7 CPT \t1 ICU \t80 LABS \t0 MICRO \t3 DRG \t33 PSC \t5 PCD \t18 DGN \t19 NOTES\n",
      "----------\n",
      "admission 190600 from \t2145-04-13 17:06:00 to \t2145-04-20 17:47:00\n",
      "20 CPT \t1 ICU \t375 LABS \t24 MICRO \t3 DRG \t93 PSC \t8 PCD \t40 DGN \t60 NOTES\n",
      "----------\n",
      "admission 155191 from \t2145-07-31 14:25:00 to \t2145-08-02 12:30:00\n",
      "5 CPT \t1 ICU \t119 LABS \t0 MICRO \t3 DRG \t43 PSC \t2 PCD \t20 DGN \t8 NOTES\n",
      "----------\n",
      "admission 185074 from \t2146-07-15 22:40:00 to \t2146-07-18 15:59:00\n",
      "9 CPT \t1 ICU \t151 LABS \t26 MICRO \t3 DRG \t57 PSC \t2 PCD \t44 DGN \t14 NOTES\n",
      "----------\n",
      "admission 154196 from \t2146-08-20 14:26:00 to \t2146-08-30 14:30:00\n",
      "27 CPT \t1 ICU \t376 LABS \t22 MICRO \t3 DRG \t85 PSC \t6 PCD \t48 DGN \t30 NOTES\n",
      "----------\n",
      "admission 115671 from \t2147-09-25 21:23:00 to \t2147-09-29 19:30:00\n",
      "10 CPT \t1 ICU \t240 LABS \t12 MICRO \t3 DRG \t86 PSC \t4 PCD \t62 DGN \t16 NOTES\n"
     ]
    }
   ],
   "source": [
    "print_patient(patients[patients_list[89]])"
   ]
  },
  {
   "cell_type": "code",
   "execution_count": 35,
   "metadata": {
    "collapsed": false
   },
   "outputs": [
    {
     "name": "stdout",
     "output_type": "stream",
     "text": [
      "0\n",
      "\tCPT Event \t('Evaluation and management', 'Critical care services', '')\n",
      "1\n",
      "2147-09-26 00:00:00\tCPT Event \t('Medicine', 'Pulmonary', 'VENT MGMT;SUBSQ DAYS(INVASIVE)')\n",
      "2\n",
      "2147-09-27 00:00:00\tCPT Event \t('Medicine', 'Pulmonary', 'VENT MGMT;SUBSQ DAYS(INVASIVE)')\n",
      "3\n",
      "2147-09-28 00:00:00\tCPT Event \t('Medicine', 'Pulmonary', 'VENT MGMT;SUBSQ DAYS(INVASIVE)')\n",
      "4\n",
      "2147-09-29 00:00:00\tCPT Event \t('Medicine', 'Pulmonary', 'VENT MGMT;SUBSQ DAYS(INVASIVE)')\n"
     ]
    }
   ],
   "source": [
    "admission = patients[patients_list[89]].admissions['115671']\n",
    "\n",
    "for i, cpt in enumerate(admission.cpt_events[5:10]):\n",
    "    print i\n",
    "    print(cpt.date + '\\t' + 'CPT Event ' + '\\t' + str(cpt.cpt_info))\n",
    "    # print(cpt.date)\n",
    "    # print(cpt.cpt_info)\n"
   ]
  },
  {
   "cell_type": "code",
   "execution_count": 36,
   "metadata": {
    "collapsed": false
   },
   "outputs": [
    {
     "name": "stdout",
     "output_type": "stream",
     "text": [
      "0\n",
      "2147-09-25 21:25:02\tICU Event \t2147-09-25 21:25:02\tSICU\t to \t2147-09-29 22:03:42\tMICU\n"
     ]
    }
   ],
   "source": [
    "for i, icu in enumerate(admission.icu_events):\n",
    "    print i\n",
    "    print(icu.start_time + '\\t' + 'ICU Event ' + '\\t' + icu.start_time + '\\t' + icu.icu_info[0] + '\\t to \\t' + icu.end_time + '\\t' + icu.icu_info[1])\n",
    "    # print(icu.start_time, icu.end_time)\n",
    "    # print(icu.icu_info)\n"
   ]
  },
  {
   "cell_type": "code",
   "execution_count": 17,
   "metadata": {
    "collapsed": true
   },
   "outputs": [
    {
     "name": "stdout",
     "output_type": "stream",
     "text": [
      "0\n",
      "('2147-09-25 17:00:00', '2147-09-25 17:00:00')\n",
      "('154', '154', 'mg/dL')\n",
      "abnormal\n",
      "1\n",
      "('2147-09-25 17:00:00', '2147-09-25 17:00:00')\n",
      "('1.0', '1', 'mmol/L')\n",
      "\n",
      "2\n",
      "('2147-09-25 17:00:00', '2147-09-25 17:00:00')\n",
      "('4.8', '4.8', 'mEq/L')\n",
      "\n",
      "3\n",
      "('2147-09-25 17:00:00', '2147-09-25 17:00:00')\n",
      "('115', '115', 'mEq/L')\n",
      "abnormal\n",
      "4\n",
      "('2147-09-25 17:18:00', '2147-09-25 17:18:00')\n",
      "('2', '2', 'mEq/L')\n",
      "\n"
     ]
    }
   ],
   "source": [
    "for i, lab in enumerate(admission.lab_events[:5]):\n",
    "    print i\n",
    "    print(lab.start_time, lab.end_time)\n",
    "    print(lab.lab_value)\n",
    "    print(lab.lab_flag)"
   ]
  },
  {
   "cell_type": "code",
   "execution_count": 37,
   "metadata": {
    "collapsed": false
   },
   "outputs": [
    {
     "name": "stdout",
     "output_type": "stream",
     "text": [
      "0\n",
      "2147-09-25 18:09:00\tMICRO Event \tSPUTUM\t interpretation \tI\n",
      "1\n",
      "2147-09-25 18:09:00\tMICRO Event \tSPUTUM\t interpretation \tS\n",
      "2\n",
      "2147-09-25 18:09:00\tMICRO Event \tSPUTUM\t interpretation \tR\n",
      "3\n",
      "2147-09-25 18:09:00\tMICRO Event \tSPUTUM\t interpretation \tR\n",
      "4\n",
      "2147-09-25 18:09:00\tMICRO Event \tSPUTUM\t interpretation \tS\n"
     ]
    }
   ],
   "source": [
    "for i, micro in enumerate(admission.mic_events[:5]):\n",
    "    print i\n",
    "    print(micro.start_time + '\\t' + 'MICRO Event ' + '\\t' + micro.description + '\\t interpretation \\t' + micro.interpretation)\n",
    "    # print(micro.start_time, micro.end_time)\n",
    "    # print(micro.code)\n",
    "    # print(micro.description)\n",
    "    #print(micro.interpretation)"
   ]
  },
  {
   "cell_type": "code",
   "execution_count": 38,
   "metadata": {
    "collapsed": false
   },
   "outputs": [
    {
     "name": "stdout",
     "output_type": "stream",
     "text": [
      "0\n",
      "2147-09-29 19:30:00\tDRUG Event \tSepticemia & Disseminated Infections\t severity \t('4', '4')\n",
      "1\n",
      "2147-09-29 19:30:00\tDRUG Event \tSepticemia & Disseminated Infections\t severity \t('4', '4')\n",
      "2\n",
      "2147-09-29 19:30:00\tDRUG Event \tSEPTICEMIA OR SEVERE SEPSIS W/O MV 96+ HOURS W MCC\t severity \t('', '')\n"
     ]
    }
   ],
   "source": [
    "for i, drg in enumerate(admission.drg_events):\n",
    "    print i\n",
    "    print(admission.out_time + '\\t' + 'DRUG Event ' + '\\t' + drg.description + '\\t severity \\t' + str(drg.severity))\n",
    "    # print(drg.drg_codes)\n",
    "    # print(drg.description)\n",
    "    # print(drg.severity)"
   ]
  },
  {
   "cell_type": "code",
   "execution_count": 44,
   "metadata": {
    "collapsed": false
   },
   "outputs": [
    {
     "name": "stdout",
     "output_type": "stream",
     "text": [
      "0\n",
      "2147-09-27 00:00:00\tPRESCRIPTION Event \tFurosemide\tFURO40I\tIV\t NDC \t00517570425\n",
      "1\n",
      "2147-09-27 00:00:00\tPRESCRIPTION Event \tMetolazone\tMETL5\tPO\t NDC \t51079002420\n",
      "2\n",
      "2147-09-28 00:00:00\tPRESCRIPTION Event \tAlbumin 25% (12.5g / 50mL)\tALBU25\tIV\t NDC \t67467064301\n",
      "3\n",
      "2147-09-29 00:00:00\tPRESCRIPTION Event \tSodium Polystyrene Sulfonate\tKAYE15L\tPO/NG\t NDC \t46287000660\n",
      "4\n",
      "2147-09-26 00:00:00\tPRESCRIPTION Event \t0.9% Sodium Chloride (Mini Bag Plus)\tNS/MBP100I\tIV\t NDC \t00338055318\n"
     ]
    }
   ],
   "source": [
    "for i, psc in enumerate(admission.psc_events[:5]):\n",
    "    print i\n",
    "    print(psc.start_time + '\\t' + 'PRESCRIPTION Event ' + '\\t' + psc.drug_names[0] + '\\t' + psc.drug_codes[0] + '\\t' + psc.drug_info[-1] + '\\t NDC \\t' + psc.drug_codes[-1])\n",
    "    # print(psc.drug_names)\n",
    "    # print(psc.drug_codes)\n",
    "    # print(psc.drug_info)"
   ]
  },
  {
   "cell_type": "code",
   "execution_count": 40,
   "metadata": {
    "collapsed": false
   },
   "outputs": [
    {
     "name": "stdout",
     "output_type": "stream",
     "text": [
      "0\n",
      "2147-09-29 19:30:00\tPROCEDURE Event \t ICD9 \t9671\n",
      "1\n",
      "2147-09-29 19:30:00\tPROCEDURE Event \t ICD9 \t3893\n",
      "2\n",
      "2147-09-29 19:30:00\tPROCEDURE Event \t ICD9 \t3897\n",
      "3\n",
      "2147-09-29 19:30:00\tPROCEDURE Event \t ICD9 \t966\n"
     ]
    }
   ],
   "source": [
    "for i, pcd in enumerate(admission.pcd_events[:5]):\n",
    "    print i\n",
    "    print(admission.out_time + '\\t' + 'PROCEDURE Event ' + '\\t ICD9 \\t' + pcd.code)"
   ]
  },
  {
   "cell_type": "code",
   "execution_count": 45,
   "metadata": {
    "collapsed": false
   },
   "outputs": [
    {
     "name": "stdout",
     "output_type": "stream",
     "text": [
      "0\n",
      "2147-09-29 19:30:00\tDIAGNOSIS Event \t ICD9 \t0389\n",
      "1\n",
      "2147-09-29 19:30:00\tDIAGNOSIS Event \t ICD9 \t0389\n",
      "2\n",
      "2147-09-29 19:30:00\tDIAGNOSIS Event \t ICD9 \t51884\n",
      "3\n",
      "2147-09-29 19:30:00\tDIAGNOSIS Event \t ICD9 \t51884\n",
      "4\n",
      "2147-09-29 19:30:00\tDIAGNOSIS Event \t ICD9 \t34982\n"
     ]
    }
   ],
   "source": [
    "for i, dgn in enumerate(admission.dgn_events[:5]):\n",
    "    print i\n",
    "    print(admission.out_time + '\\t' + 'DIAGNOSIS Event ' + '\\t ICD9 \\t' + dgn.code)"
   ]
  },
  {
   "cell_type": "code",
   "execution_count": 49,
   "metadata": {
    "collapsed": false
   },
   "outputs": [
    {
     "name": "stdout",
     "output_type": "stream",
     "text": [
      "0\n",
      "2147-09-29\tNOTE Event \tDischarge summary\tReport\t\t \n",
      " Admission Date:  [**3269-9-23**]              Discharge Date:   [**3269-9-27**] \n",
      " Service: MEDICINE \n",
      " Allergies: \n",
      " Valium \n",
      " Attending:[**First Name3 (LF) 588**] \n",
      " Chief Complaint: \n",
      " Altered mental ...\n",
      "1\n",
      "2147-09-29\tNOTE Event \tECG\tReport\t\t \n",
      " Sinus rhythm with occasional atrial premature beats.  A-V conduction delay. \n",
      " Left axis deviation.  Old inferior wall myocardial infarction.  Low voltage. \n",
      " Compared to the previous tracing of [**3...\n",
      "2\n",
      "2147-09-29\tNOTE Event \tECG\tReport\t\t \n",
      " Sinus bradycardia with atrial bigeminy.  A-V conduction delay.  Left axis \n",
      " deviation consistent with left anterior fascicular block.  Old inferior wall \n",
      " myocardial infarction.  Low voltage.  Comp...\n",
      "3\n",
      "2147-09-25\tNOTE Event \tECG\tReport\t\t \n",
      " Baseline artifact.  Sinus arrhythmia.  P-R interval prolongation.  Left axis \n",
      " deviation.  Inferior wall myocardial infarction.  Low voltage.  Since the \n",
      " previous tracing of [**3268-8-20**] sinus ...\n",
      "4\n",
      "2147-09-25\tNOTE Event \tRadiology\tCHEST (PORTABLE AP)\t\t \n",
      " [**3269-9-23**] 4:48 PM \n",
      " CHEST (PORTABLE AP)                                             Clip # [**Clip Number (Radiology) 81778**] \n",
      " Reason: r/o infiltrate \n",
      " _____________________________________...\n"
     ]
    }
   ],
   "source": [
    "for i, note in enumerate(admission.nte_events[:5]):\n",
    "    print i\n",
    "    print(note.date + '\\t' + 'NOTE Event ' + '\\t' + note.note_cat + '\\t' + note.note_desc + '\\t' + note.erroneous+ '\\t' + note.note_text[:200] + '...')"
   ]
  },
  {
   "cell_type": "code",
   "execution_count": null,
   "metadata": {
    "collapsed": true
   },
   "outputs": [],
   "source": []
  }
 ],
 "metadata": {
  "kernelspec": {
   "display_name": "Python 2",
   "language": "python",
   "name": "python2"
  },
  "language_info": {
   "codemirror_mode": {
    "name": "ipython",
    "version": 2
   },
   "file_extension": ".py",
   "mimetype": "text/x-python",
   "name": "python",
   "nbconvert_exporter": "python",
   "pygments_lexer": "ipython2",
   "version": "2.7.9"
  }
 },
 "nbformat": 4,
 "nbformat_minor": 0
}
