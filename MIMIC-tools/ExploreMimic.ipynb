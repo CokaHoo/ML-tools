{
 "cells": [
  {
   "cell_type": "code",
   "execution_count": 6,
   "metadata": {
    "collapsed": true
   },
   "outputs": [],
   "source": [
    "import shelve\n",
    "\n",
    "import cPickle as pickle\n",
    "\n",
    "from os.path import join as pjoin\n",
    "\n",
    "from MimicPatient import *\n",
    "from MimicEvent import *\n",
    "from Utils import *\n",
    "\n",
    "patients_list = pickle.load(open('/data/ml2/MIMIC3/processed/patients_list.pk'))\n",
    "patients      = shelve.open('/data/ml2/MIMIC3/processed/patients.shlf')\n"
   ]
  },
  {
   "cell_type": "code",
   "execution_count": 12,
   "metadata": {
    "collapsed": false
   },
   "outputs": [
    {
     "data": {
      "text/plain": [
       "'11518'"
      ]
     },
     "execution_count": 12,
     "metadata": {},
     "output_type": "execute_result"
    }
   ],
   "source": [
    "patients_list[12]"
   ]
  },
  {
   "cell_type": "code",
   "execution_count": 36,
   "metadata": {
    "collapsed": false
   },
   "outputs": [
    {
     "name": "stdout",
     "output_type": "stream",
     "text": [
      "1 3\n",
      "6 2\n",
      "9 2\n",
      "14 2\n",
      "16 2\n",
      "17 2\n",
      "21 2\n",
      "22 3\n",
      "23 2\n",
      "24 2\n",
      "25 3\n",
      "26 3\n",
      "28 2\n",
      "29 10\n",
      "31 2\n",
      "33 3\n",
      "35 3\n",
      "36 3\n",
      "38 5\n",
      "39 2\n",
      "41 3\n",
      "43 2\n",
      "45 2\n",
      "48 2\n",
      "49 2\n",
      "51 2\n",
      "52 2\n",
      "53 2\n",
      "54 2\n",
      "55 2\n",
      "56 3\n",
      "60 2\n",
      "63 7\n",
      "68 2\n",
      "72 2\n",
      "74 10\n",
      "75 2\n",
      "77 2\n",
      "78 2\n",
      "79 2\n",
      "82 2\n",
      "84 2\n",
      "85 2\n",
      "86 2\n",
      "87 3\n",
      "93 2\n",
      "95 2\n",
      "96 3\n",
      "98 2\n"
     ]
    }
   ],
   "source": [
    "for i in range(100):\n",
    "    if len(patients[patients_list[i]].admissions) > 1:\n",
    "        print i, len(patients[patients_list[i]].admissions)"
   ]
  },
  {
   "cell_type": "code",
   "execution_count": 33,
   "metadata": {
    "collapsed": false
   },
   "outputs": [],
   "source": [
    "def print_patient(patient):\n",
    "    print 'Patient', patient.patient_id, ', \\t', patient.gender\n",
    "    print(patient.dob, patient.dod, patient.expire_flag)\n",
    "    patient.admissions[''].in_time = ''\n",
    "    patient.admissions[''].out_time = ''\n",
    "    admissions = sorted(patient.admissions.items(), key=lambda x:x[1].in_time)\n",
    "    for adm_id, adm in admissions:\n",
    "        print '----------'\n",
    "        print 'admission', adm_id, 'from \\t', adm.in_time, 'to \\t', adm.out_time\n",
    "        print len(adm.cpt_events), 'CPT \\t', len(adm.icu_events), 'ICU \\t',\n",
    "        print len(adm.lab_events), 'LABS \\t',len(adm.mic_events), 'MICRO \\t',\n",
    "        print len(adm.drg_events), 'DRG \\t', len(adm.psc_events), 'PSC \\t',\n",
    "        print len(adm.pcd_events), 'PCD \\t',len(adm.nte_events), 'NOTES'\n",
    "    "
   ]
  },
  {
   "cell_type": "code",
   "execution_count": 34,
   "metadata": {
    "collapsed": false
   },
   "outputs": [
    {
     "name": "stdout",
     "output_type": "stream",
     "text": [
      "Patient 17149 , \tM\n",
      "('2097-09-07 00:00:00', '', 'N')\n",
      "----------\n",
      "admission  from \t to \t\n",
      "0 CPT \t0 ICU \t1303 LABS \t0 MICRO \t0 DRG \t0 PSC \t0 PCD \t44 NOTES\n",
      "----------\n",
      "admission 125751 from \t2154-05-14 07:15:00 to \t2154-05-24 15:45:00\n",
      "16 CPT \t1 ICU \t429 LABS \t0 MICRO \t2 DRG \t84 PSC \t35 PCD \t16 NOTES\n",
      "----------\n",
      "admission 183984 from \t2154-10-10 16:05:00 to \t2154-10-20 16:00:00\n",
      "17 CPT \t1 ICU \t594 LABS \t1 MICRO \t3 DRG \t182 PSC \t54 PCD \t35 NOTES\n",
      "----------\n",
      "admission 123874 from \t2154-12-18 04:46:00 to \t2154-12-29 17:00:00\n",
      "10 CPT \t1 ICU \t537 LABS \t0 MICRO \t3 DRG \t156 PSC \t41 PCD \t10 NOTES\n",
      "----------\n",
      "admission 142072 from \t2155-07-12 21:39:00 to \t2155-07-16 12:40:00\n",
      "7 CPT \t1 ICU \t157 LABS \t0 MICRO \t3 DRG \t82 PSC \t46 PCD \t18 NOTES\n",
      "----------\n",
      "admission 102195 from \t2158-02-12 01:38:00 to \t2158-03-03 17:32:00\n",
      "64 CPT \t1 ICU \t875 LABS \t1 MICRO \t3 DRG \t238 PSC \t62 PCD \t40 NOTES\n",
      "----------\n",
      "admission 127920 from \t2158-09-13 00:56:00 to \t2158-09-24 15:45:00\n",
      "18 CPT \t2 ICU \t358 LABS \t10 MICRO \t3 DRG \t125 PSC \t27 PCD \t6 NOTES\n"
     ]
    }
   ],
   "source": [
    "print_patient(patients[patients_list[63]])"
   ]
  },
  {
   "cell_type": "code",
   "execution_count": 35,
   "metadata": {
    "collapsed": false
   },
   "outputs": [
    {
     "name": "stdout",
     "output_type": "stream",
     "text": [
      "Patient 14342 , \tM\n",
      "('2108-06-10 00:00:00', '2187-04-19 00:00:00', 'N')\n",
      "----------\n",
      "admission  from \t to \t\n",
      "0 CPT \t0 ICU \t87 LABS \t0 MICRO \t0 DRG \t0 PSC \t0 PCD \t27 NOTES\n",
      "----------\n",
      "admission 199394 from \t2183-05-12 04:57:00 to \t2183-06-11 12:00:00\n",
      "73 CPT \t1 ICU \t2137 LABS \t22 MICRO \t1 DRG \t248 PSC \t56 PCD \t216 NOTES\n",
      "----------\n",
      "admission 129729 from \t2183-07-15 13:45:00 to \t2183-07-19 20:00:00\n",
      "7 CPT \t1 ICU \t208 LABS \t9 MICRO \t1 DRG \t39 PSC \t21 PCD \t23 NOTES\n",
      "----------\n",
      "admission 116105 from \t2183-07-27 18:46:00 to \t2183-08-01 22:13:00\n",
      "7 CPT \t1 ICU \t288 LABS \t8 MICRO \t1 DRG \t50 PSC \t19 PCD \t20 NOTES\n",
      "----------\n",
      "admission 135687 from \t2186-04-06 02:48:00 to \t2186-04-13 19:37:00\n",
      "13 CPT \t1 ICU \t431 LABS \t1 MICRO \t3 DRG \t86 PSC \t28 PCD \t40 NOTES\n"
     ]
    }
   ],
   "source": [
    "print_patient(patients[patients_list[38]])"
   ]
  },
  {
   "cell_type": "code",
   "execution_count": null,
   "metadata": {
    "collapsed": true
   },
   "outputs": [],
   "source": []
  }
 ],
 "metadata": {
  "kernelspec": {
   "display_name": "Python 2",
   "language": "python",
   "name": "python2"
  },
  "language_info": {
   "codemirror_mode": {
    "name": "ipython",
    "version": 2
   },
   "file_extension": ".py",
   "mimetype": "text/x-python",
   "name": "python",
   "nbconvert_exporter": "python",
   "pygments_lexer": "ipython2",
   "version": "2.7.9"
  }
 },
 "nbformat": 4,
 "nbformat_minor": 0
}
