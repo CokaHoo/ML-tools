{
 "cells": [
  {
   "cell_type": "code",
   "execution_count": 1,
   "metadata": {
    "collapsed": true
   },
   "outputs": [],
   "source": [
    "import shelve\n",
    "\n",
    "import cPickle as pickle\n",
    "\n",
    "from os.path import join as pjoin\n",
    "\n",
    "from MimicPatient import *\n",
    "from MimicEvent import *\n",
    "from Utils import *\n",
    "\n",
    "patients_list = pickle.load(open('/data/ml2/MIMIC3/processed/patients_list.pk'))\n",
    "patients      = shelve.open('/data/ml2/MIMIC3/processed/patients.shlf')\n"
   ]
  },
  {
   "cell_type": "code",
   "execution_count": 2,
   "metadata": {
    "collapsed": false
   },
   "outputs": [
    {
     "data": {
      "text/plain": [
       "'11549'"
      ]
     },
     "execution_count": 2,
     "metadata": {},
     "output_type": "execute_result"
    }
   ],
   "source": [
    "patients_list[12]"
   ]
  },
  {
   "cell_type": "code",
   "execution_count": 3,
   "metadata": {
    "collapsed": false
   },
   "outputs": [
    {
     "name": "stdout",
     "output_type": "stream",
     "text": [
      "16 3\n",
      "36 3\n",
      "59 3\n",
      "64 3\n",
      "70 3\n",
      "84 6\n",
      "89 12\n",
      "91 3\n",
      "94 3\n"
     ]
    }
   ],
   "source": [
    "for i in range(100):\n",
    "    if len(patients[patients_list[i]].admissions) > 2:\n",
    "        print i, len(patients[patients_list[i]].admissions)"
   ]
  },
  {
   "cell_type": "code",
   "execution_count": 4,
   "metadata": {
    "collapsed": false
   },
   "outputs": [
    {
     "name": "stdout",
     "output_type": "stream",
     "text": [
      "---------------- PATIENT \t63024\n",
      "--GENDER-- F\t --DOB-- 2142-05-07 00:00:00\t --DOD-- \t --Hosp_EXPIRED-- N\n",
      "---------------- ADMISSIONS \t2\n",
      "----ADMISSION-- \t --START-- 0001-01-01 00:00:00\t --END-- 0001-01-01 00:00:00\n",
      "0 CPT EVENTS \t0 ICU STAYS \t0 LABS \t0 MICROBIOLOGY \t0 DRUGS BILLED \n",
      "0 PRESCRIPTIONS \t0 PROCEDURES \t0 DIAGNOSES \t18 NOTES\n",
      "-------------- \n",
      "----ADMISSION-- 144024\t --START-- 2188-06-20 14:49:00\t --END-- 2188-07-01 12:30:00\n",
      "18 CPT EVENTS \t2 ICU STAYS \t298 LABS \t0 MICROBIOLOGY \t3 DRUGS BILLED \n",
      "78 PRESCRIPTIONS \t2 PROCEDURES \t14 DIAGNOSES \t17 NOTES\n",
      "-------------- \n",
      "\n"
     ]
    }
   ],
   "source": [
    "print patients[patients_list[79]]"
   ]
  },
  {
   "cell_type": "code",
   "execution_count": 5,
   "metadata": {
    "collapsed": false
   },
   "outputs": [
    {
     "name": "stdout",
     "output_type": "stream",
     "text": [
      "---------------- PATIENT \t9253\n",
      "--GENDER-- M\t --DOB-- 1931-10-10 00:00:00\t --DOD-- 2147-09-29 00:00:00\t --Hosp_EXPIRED-- Y\n",
      "---------------- ADMISSIONS \t12\n",
      "----ADMISSION-- \t --START-- 0001-01-01 00:00:00\t --END-- 0001-01-01 00:00:00\n",
      "0 CPT EVENTS \t0 ICU STAYS \t252 LABS \t0 MICROBIOLOGY \t0 DRUGS BILLED \n",
      "0 PRESCRIPTIONS \t0 PROCEDURES \t0 DIAGNOSES \t34 NOTES\n",
      "-------------- \n",
      "----ADMISSION-- 184487\t --START-- 2141-10-08 14:25:00\t --END-- 2141-10-17 13:25:00\n",
      "12 CPT EVENTS \t1 ICU STAYS \t271 LABS \t1 MICROBIOLOGY \t2 DRUGS BILLED \n",
      "72 PRESCRIPTIONS \t2 PROCEDURES \t9 DIAGNOSES \t29 NOTES\n",
      "-------------- \n",
      "----ADMISSION-- 130680\t --START-- 2141-12-10 22:54:00\t --END-- 2141-12-21 17:45:00\n",
      "12 CPT EVENTS \t1 ICU STAYS \t255 LABS \t1 MICROBIOLOGY \t2 DRUGS BILLED \n",
      "61 PRESCRIPTIONS \t2 PROCEDURES \t9 DIAGNOSES \t21 NOTES\n",
      "-------------- \n",
      "----ADMISSION-- 171616\t --START-- 2142-04-23 16:35:00\t --END-- 2142-05-03 17:30:00\n",
      "18 CPT EVENTS \t1 ICU STAYS \t685 LABS \t5 MICROBIOLOGY \t2 DRUGS BILLED \n",
      "112 PRESCRIPTIONS \t4 PROCEDURES \t10 DIAGNOSES \t97 NOTES\n",
      "-------------- \n",
      "----ADMISSION-- 173715\t --START-- 2142-05-21 10:58:00\t --END-- 2142-05-29 18:00:00\n",
      "19 CPT EVENTS \t1 ICU STAYS \t551 LABS \t2 MICROBIOLOGY \t2 DRUGS BILLED \n",
      "92 PRESCRIPTIONS \t7 PROCEDURES \t13 DIAGNOSES \t77 NOTES\n",
      "-------------- \n",
      "----ADMISSION-- 187222\t --START-- 2142-07-13 20:53:00\t --END-- 2142-07-19 15:30:00\n",
      "12 CPT EVENTS \t1 ICU STAYS \t236 LABS \t17 MICROBIOLOGY \t2 DRUGS BILLED \n",
      "42 PRESCRIPTIONS \t6 PROCEDURES \t15 DIAGNOSES \t41 NOTES\n",
      "-------------- \n",
      "----ADMISSION-- 187753\t --START-- 2143-06-24 16:40:00\t --END-- 2143-06-26 16:23:00\n",
      "7 CPT EVENTS \t1 ICU STAYS \t80 LABS \t0 MICROBIOLOGY \t3 DRUGS BILLED \n",
      "33 PRESCRIPTIONS \t5 PROCEDURES \t9 DIAGNOSES \t19 NOTES\n",
      "-------------- \n",
      "----ADMISSION-- 190600\t --START-- 2145-04-13 17:06:00\t --END-- 2145-04-20 17:47:00\n",
      "20 CPT EVENTS \t1 ICU STAYS \t375 LABS \t24 MICROBIOLOGY \t3 DRUGS BILLED \n",
      "93 PRESCRIPTIONS \t8 PROCEDURES \t20 DIAGNOSES \t60 NOTES\n",
      "-------------- \n",
      "----ADMISSION-- 155191\t --START-- 2145-07-31 14:25:00\t --END-- 2145-08-02 12:30:00\n",
      "5 CPT EVENTS \t1 ICU STAYS \t119 LABS \t0 MICROBIOLOGY \t3 DRUGS BILLED \n",
      "43 PRESCRIPTIONS \t2 PROCEDURES \t10 DIAGNOSES \t8 NOTES\n",
      "-------------- \n",
      "----ADMISSION-- 185074\t --START-- 2146-07-15 22:40:00\t --END-- 2146-07-18 15:59:00\n",
      "9 CPT EVENTS \t1 ICU STAYS \t151 LABS \t26 MICROBIOLOGY \t3 DRUGS BILLED \n",
      "57 PRESCRIPTIONS \t2 PROCEDURES \t22 DIAGNOSES \t14 NOTES\n",
      "-------------- \n",
      "----ADMISSION-- 154196\t --START-- 2146-08-20 14:26:00\t --END-- 2146-08-30 14:30:00\n",
      "27 CPT EVENTS \t1 ICU STAYS \t376 LABS \t22 MICROBIOLOGY \t3 DRUGS BILLED \n",
      "85 PRESCRIPTIONS \t6 PROCEDURES \t24 DIAGNOSES \t30 NOTES\n",
      "-------------- \n",
      "----ADMISSION-- 115671\t --START-- 2147-09-25 21:23:00\t --END-- 2147-09-29 19:30:00\n",
      "10 CPT EVENTS \t1 ICU STAYS \t240 LABS \t12 MICROBIOLOGY \t3 DRUGS BILLED \n",
      "86 PRESCRIPTIONS \t4 PROCEDURES \t31 DIAGNOSES \t16 NOTES\n",
      "-------------- \n",
      "\n"
     ]
    }
   ],
   "source": [
    "print(patients[patients_list[89]])"
   ]
  },
  {
   "cell_type": "code",
   "execution_count": 6,
   "metadata": {
    "collapsed": false
   },
   "outputs": [
    {
     "name": "stdout",
     "output_type": "stream",
     "text": [
      "2147-09-25 21:23:00\t ADMISSION \t115671\n",
      "EMERGENCY\t IN \tCLINIC REFERRAL/PREMATURE\t OUT \tDEAD/EXPIRED\n",
      "LANG \tENGL\t REL \tUNITARIAN-UNIVERSALIST\tMARRIED \tMARRIED\t ETHNO \tWHITE\n",
      "----- CPT EVENTS \n",
      "2147-09-26 00:00:00 -- CPT \t --DESCRIPTION-- Medicine -- Pulmonary\n",
      "2147-09-27 00:00:00 -- CPT \t --DESCRIPTION-- Medicine -- Pulmonary\n",
      "2147-09-28 00:00:00 -- CPT \t --DESCRIPTION-- Medicine -- Pulmonary\n",
      "2147-09-29 00:00:00 -- CPT \t --DESCRIPTION-- Medicine -- Pulmonary\n",
      "2147-09-29 19:30:00 -- CPT \t --DESCRIPTION-- Evaluation and management -- Critical care services\n",
      "----- ICU ADMISSIONS \n",
      "2147-09-25 21:25:02 -- ICU STAY \t --START-- 2147-09-25 21:25:02 --AT-- SICU\t --END-- 2147-09-29 22:03:42 --AT-- MICU\n",
      "----- LABS \n",
      "2147-09-25 16:50:00 -- LAB \t --NAME-- ANION GAP\t --LOINC-- 1863-0\t --STATUS-- \n",
      "2147-09-25 16:50:00 -- LAB \t --NAME-- BICARBONATE\t --LOINC-- 1963-8\t --STATUS-- abnormal\n",
      "2147-09-25 16:50:00 -- LAB \t --NAME-- CHLORIDE\t --LOINC-- 2075-0\t --STATUS-- abnormal\n",
      "2147-09-25 16:50:00 -- LAB \t --NAME-- CREATININE\t --LOINC-- 2160-0\t --STATUS-- abnormal\n",
      "2147-09-25 16:50:00 -- LAB \t --NAME-- GLUCOSE\t --LOINC-- 2345-7\t --STATUS-- abnormal\n",
      "----- MICROBIOLOGY \n",
      "2147-09-25 18:09:00 -- MICROBIOLOGY \t --DESCRIPTION-- SPUTUM\t --INTERPRETATION-- I\n",
      "2147-09-25 18:09:00 -- MICROBIOLOGY \t --DESCRIPTION-- SPUTUM\t --INTERPRETATION-- S\n",
      "2147-09-25 18:09:00 -- MICROBIOLOGY \t --DESCRIPTION-- SPUTUM\t --INTERPRETATION-- R\n",
      "2147-09-25 18:09:00 -- MICROBIOLOGY \t --DESCRIPTION-- SPUTUM\t --INTERPRETATION-- R\n",
      "2147-09-25 18:09:00 -- MICROBIOLOGY \t --DESCRIPTION-- SPUTUM\t --INTERPRETATION-- S\n",
      "----- DRUGS \n",
      "2147-09-29 19:30:00 -- DRUG_BILL \t --DESCRIPTION-- Septicemia & Dissemi\t --SEVERITY-- ('4', '4')\n",
      "2147-09-29 19:30:00 -- DRUG_BILL \t --DESCRIPTION-- Septicemia & Dissemi\t --SEVERITY-- ('4', '4')\n",
      "2147-09-29 19:30:00 -- DRUG_BILL \t --DESCRIPTION-- SEPTICEMIA OR SEVERE\t --SEVERITY-- ('', '')\n",
      "----- PRESCRIPTIONS \n",
      "2147-09-26 00:00:00 -- PRESCRIPTION \t --NAME-- 0.9% Sodium Chloride (Mini Bag Plus) -- NS/MBP100I --ROUTE-- IV\t --NDC-- 00338055318\n",
      "2147-09-26 00:00:00 -- PRESCRIPTION \t --NAME-- 0.9% Sodium Chloride -- NS100CG --ROUTE-- IV\t --NDC-- 0\n",
      "2147-09-26 00:00:00 -- PRESCRIPTION \t --NAME-- 0.9% Sodium Chloride -- NS1000 --ROUTE-- IV\t --NDC-- 00338004904\n",
      "2147-09-26 00:00:00 -- PRESCRIPTION \t --NAME-- Bag -- BAG50 --ROUTE-- IV\t --NDC-- 0\n",
      "2147-09-26 00:00:00 -- PRESCRIPTION \t --NAME-- Bag -- BAG50 --ROUTE-- IV\t --NDC-- 0\n",
      "----- PROCEDURES \n",
      "2147-09-29 19:30:00 -- PROCEDURE \t --NAME-- Cont inv mec ven <96 hrs\t --ICD9-- 9671\n",
      "2147-09-29 19:30:00 -- PROCEDURE \t --NAME-- Venous cath NEC\t --ICD9-- 3893\n",
      "2147-09-29 19:30:00 -- PROCEDURE \t --NAME-- CV cath plcmt w guidance\t --ICD9-- 3897\n",
      "2147-09-29 19:30:00 -- PROCEDURE \t --NAME-- Entral infus nutrit sub\t --ICD9-- 966\n",
      "----- NOTES \n",
      "2147-09-25 -- NOTE \t --NOTE_TYPE-- ECG --Report\t \n",
      " Baseline artifact.  Sinus arrhythmia.  P-R interval prolongation.  Left axis \n",
      " deviation.  Inferior wall myocardial infarction.  Low voltage.  Since the \n",
      " previous tracing of [**3268-8-20**] sinus ...\n",
      "2147-09-25 -- NOTE \t --NOTE_TYPE-- Radiology --CHEST (PORTABLE AP)\t \n",
      " [**3269-9-23**] 4:48 PM \n",
      " CHEST (PORTABLE AP)                                             Clip # [**Clip Number (Radiology) 81778**] \n",
      " Reason: r/o infiltrate \n",
      " _____________________________________...\n",
      "2147-09-25 -- NOTE \t --NOTE_TYPE-- Radiology --CT HEAD W/O CONTRAST\t \n",
      " [**3269-9-23**] 5:28 PM \n",
      " CT HEAD W/O CONTRAST                                            Clip # [**Clip Number (Radiology) 81787**] \n",
      " Reason: head CT before abdominal CTr/o infarct \n",
      " _____________...\n",
      "2147-09-25 -- NOTE \t --NOTE_TYPE-- Radiology --CT ABD & PELVIS WITH CONTRAST\t \n",
      " [**3269-9-23**] 5:29 PM \n",
      " CT ABD & PELVIS WITH CONTRAST                                   Clip # [**Clip Number (Radiology) 81798**] \n",
      " Reason: head CT before abdominal CTeval for intraabdominal inf...\n",
      "2147-09-25 -- NOTE \t --NOTE_TYPE-- Radiology --CHEST (PORTABLE AP)\t \n",
      " [**3269-9-23**] 4:48 PM \n",
      " CHEST (PORTABLE AP)                                             Clip # [**Clip Number (Radiology) 16216**] \n",
      " Reason: r/o infiltrate \n",
      " _____________________________________...\n",
      "----- DIAGNOSES \n",
      "2147-09-29 19:30:00 -- DIAGNOSIS \t --NAME-- Septicemia NOS\t --ICD9-- 0389\n",
      "2147-09-29 19:30:00 -- DIAGNOSIS \t --NAME-- Acute & chronc resp fail\t --ICD9-- 51884\n",
      "2147-09-29 19:30:00 -- DIAGNOSIS \t --NAME-- Toxic encephalopathy\t --ICD9-- 34982\n",
      "2147-09-29 19:30:00 -- DIAGNOSIS \t --NAME-- Septic shock\t --ICD9-- 78552\n",
      "2147-09-29 19:30:00 -- DIAGNOSIS \t --NAME-- Ventltr assoc pneumonia\t --ICD9-- 99731\n",
      "\n"
     ]
    }
   ],
   "source": [
    "admission = patients[patients_list[89]].admissions['115671']\n",
    "\n",
    "print(admission)"
   ]
  },
  {
   "cell_type": "code",
   "execution_count": 7,
   "metadata": {
    "collapsed": false
   },
   "outputs": [
    {
     "name": "stdout",
     "output_type": "stream",
     "text": [
      "2147-09-29 19:30:00 -- CPT \t --DESCRIPTION-- Evaluation and management -- Critical care services\n",
      "2147-09-29 19:30:00 -- CPT \t --DESCRIPTION-- Evaluation and management -- Critical care services\n",
      "2147-09-29 19:30:00 -- CPT \t --DESCRIPTION-- Evaluation and management -- Critical care services\n",
      "2147-09-29 19:30:00 -- CPT \t --DESCRIPTION-- Evaluation and management -- Critical care services\n",
      "2147-09-29 19:30:00 -- CPT \t --DESCRIPTION-- Evaluation and management -- Critical care services\n",
      "2147-09-29 19:30:00 -- CPT \t --DESCRIPTION-- Evaluation and management -- Critical care services\n",
      "2147-09-26 00:00:00 -- CPT \t --DESCRIPTION-- Medicine -- Pulmonary\n",
      "2147-09-27 00:00:00 -- CPT \t --DESCRIPTION-- Medicine -- Pulmonary\n",
      "2147-09-28 00:00:00 -- CPT \t --DESCRIPTION-- Medicine -- Pulmonary\n",
      "2147-09-29 00:00:00 -- CPT \t --DESCRIPTION-- Medicine -- Pulmonary\n"
     ]
    }
   ],
   "source": [
    "for i, cpt in enumerate(admission.cpt_events):\n",
    "    print cpt"
   ]
  },
  {
   "cell_type": "code",
   "execution_count": 8,
   "metadata": {
    "collapsed": false
   },
   "outputs": [
    {
     "name": "stdout",
     "output_type": "stream",
     "text": [
      "2147-09-25 21:25:02 -- ICU STAY \t --START-- 2147-09-25 21:25:02 --AT-- SICU\t --END-- 2147-09-29 22:03:42 --AT-- MICU\n"
     ]
    }
   ],
   "source": [
    "for i, icu in enumerate(admission.icu_events):\n",
    "    print icu\n"
   ]
  },
  {
   "cell_type": "code",
   "execution_count": 9,
   "metadata": {
    "collapsed": false
   },
   "outputs": [
    {
     "name": "stdout",
     "output_type": "stream",
     "text": [
      "2147-09-25 17:00:00 -- LAB \t --NAME-- GLUCOSE\t --LOINC-- 2339-0\t --STATUS-- abnormal\n",
      "2147-09-25 17:00:00 -- LAB \t --NAME-- LACTATE\t --LOINC-- 32693-4\t --STATUS-- \n",
      "2147-09-25 17:00:00 -- LAB \t --NAME-- POTASSIUM, WHOLE BLOOD\t --LOINC-- 6298-4\t --STATUS-- \n",
      "2147-09-25 17:00:00 -- LAB \t --NAME-- SODIUM, WHOLE BLOOD\t --LOINC-- 2947-0\t --STATUS-- abnormal\n",
      "2147-09-25 17:18:00 -- LAB \t --NAME-- BASE EXCESS\t --LOINC-- 11555-0\t --STATUS-- \n",
      "2147-09-25 17:18:00 -- LAB \t --NAME-- CALCULATED TOTAL CO2\t --LOINC-- 1959-6\t --STATUS-- abnormal\n",
      "2147-09-25 17:18:00 -- LAB \t --NAME-- PCO2\t --LOINC-- 11557-6\t --STATUS-- abnormal\n",
      "2147-09-25 17:18:00 -- LAB \t --NAME-- PH\t --LOINC-- 11558-4\t --STATUS-- abnormal\n",
      "2147-09-25 17:18:00 -- LAB \t --NAME-- PO2\t --LOINC-- 11556-8\t --STATUS-- abnormal\n",
      "2147-09-25 17:21:00 -- LAB \t --NAME-- EPITHELIAL CELLS\t --LOINC-- 5787-7\t --STATUS-- \n",
      "2147-09-25 17:21:00 -- LAB \t --NAME-- HYALINE CASTS\t --LOINC-- 5796-8\t --STATUS-- abnormal\n",
      "2147-09-25 17:21:00 -- LAB \t --NAME-- PH\t --LOINC-- 5803-2\t --STATUS-- \n",
      "2147-09-25 17:21:00 -- LAB \t --NAME-- PROTEIN\t --LOINC-- 5804-0\t --STATUS-- \n",
      "2147-09-25 17:21:00 -- LAB \t --NAME-- RBC\t --LOINC-- 5808-1\t --STATUS-- abnormal\n",
      "2147-09-25 17:21:00 -- LAB \t --NAME-- SPECIFIC GRAVITY\t --LOINC-- 5811-5\t --STATUS-- \n",
      "2147-09-25 17:21:00 -- LAB \t --NAME-- WBC\t --LOINC-- 5821-4\t --STATUS-- abnormal\n",
      "2147-09-25 17:21:00 -- LAB \t --NAME-- YEAST\t --LOINC-- 5822-2\t --STATUS-- \n",
      "2147-09-25 18:14:00 -- LAB \t --NAME-- CREATININE, URINE\t --LOINC-- 2161-8\t --STATUS-- \n",
      "2147-09-25 18:14:00 -- LAB \t --NAME-- OSMOLALITY, URINE\t --LOINC-- 2695-5\t --STATUS-- \n",
      "2147-09-25 18:14:00 -- LAB \t --NAME-- POTASSIUM, URINE\t --LOINC-- 2828-2\t --STATUS-- \n",
      "2147-09-25 18:14:00 -- LAB \t --NAME-- SODIUM, URINE\t --LOINC-- 2955-3\t --STATUS-- \n",
      "2147-09-25 18:14:00 -- LAB \t --NAME-- UREA NITROGEN, URINE\t --LOINC-- 3095-7\t --STATUS-- \n",
      "2147-09-26 00:31:00 -- LAB \t --NAME-- BASE EXCESS\t --LOINC-- 11555-0\t --STATUS-- \n",
      "2147-09-26 00:31:00 -- LAB \t --NAME-- CALCULATED TOTAL CO2\t --LOINC-- 1959-6\t --STATUS-- abnormal\n",
      "2147-09-26 00:31:00 -- LAB \t --NAME-- FREE CALCIUM\t --LOINC-- 1994-3\t --STATUS-- abnormal\n"
     ]
    }
   ],
   "source": [
    "for i, lab in enumerate(admission.lab_events[:25]):\n",
    "    print lab"
   ]
  },
  {
   "cell_type": "code",
   "execution_count": 10,
   "metadata": {
    "collapsed": false
   },
   "outputs": [
    {
     "name": "stdout",
     "output_type": "stream",
     "text": [
      "2147-09-25 18:09:00 -- MICROBIOLOGY \t --DESCRIPTION-- SPUTUM\t --INTERPRETATION-- I\n",
      "2147-09-25 18:09:00 -- MICROBIOLOGY \t --DESCRIPTION-- SPUTUM\t --INTERPRETATION-- S\n",
      "2147-09-25 18:09:00 -- MICROBIOLOGY \t --DESCRIPTION-- SPUTUM\t --INTERPRETATION-- R\n",
      "2147-09-25 18:09:00 -- MICROBIOLOGY \t --DESCRIPTION-- SPUTUM\t --INTERPRETATION-- R\n",
      "2147-09-25 18:09:00 -- MICROBIOLOGY \t --DESCRIPTION-- SPUTUM\t --INTERPRETATION-- S\n",
      "2147-09-25 18:09:00 -- MICROBIOLOGY \t --DESCRIPTION-- SPUTUM\t --INTERPRETATION-- S\n",
      "2147-09-25 18:09:00 -- MICROBIOLOGY \t --DESCRIPTION-- SPUTUM\t --INTERPRETATION-- S\n",
      "2147-09-25 18:09:00 -- MICROBIOLOGY \t --DESCRIPTION-- SPUTUM\t --INTERPRETATION-- S\n",
      "2147-09-25 18:09:00 -- MICROBIOLOGY \t --DESCRIPTION-- SPUTUM\t --INTERPRETATION-- R\n",
      "2147-09-25 18:09:00 -- MICROBIOLOGY \t --DESCRIPTION-- SPUTUM\t --INTERPRETATION-- R\n",
      "2147-09-25 18:09:00 -- MICROBIOLOGY \t --DESCRIPTION-- SPUTUM\t --INTERPRETATION-- S\n",
      "2147-09-25 18:09:00 -- MICROBIOLOGY \t --DESCRIPTION-- SPUTUM\t --INTERPRETATION-- R\n"
     ]
    }
   ],
   "source": [
    "for i, micro in enumerate(admission.mic_events[:50]):\n",
    "    print micro\n"
   ]
  },
  {
   "cell_type": "code",
   "execution_count": 11,
   "metadata": {
    "collapsed": false
   },
   "outputs": [
    {
     "name": "stdout",
     "output_type": "stream",
     "text": [
      "2147-09-29 19:30:00 -- DRUG_BILL \t --DESCRIPTION-- Septicemia & Dissemi\t --SEVERITY-- ('4', '4')\n",
      "2147-09-29 19:30:00 -- DRUG_BILL \t --DESCRIPTION-- Septicemia & Dissemi\t --SEVERITY-- ('4', '4')\n",
      "2147-09-29 19:30:00 -- DRUG_BILL \t --DESCRIPTION-- SEPTICEMIA OR SEVERE\t --SEVERITY-- ('', '')\n"
     ]
    }
   ],
   "source": [
    "for i, drg in enumerate(admission.drg_events):\n",
    "    print drg"
   ]
  },
  {
   "cell_type": "code",
   "execution_count": 13,
   "metadata": {
    "collapsed": false
   },
   "outputs": [
    {
     "name": "stdout",
     "output_type": "stream",
     "text": [
      "2147-09-27 00:00:00 -- PRESCRIPTION \t --NAME-- Furosemide -- FURO40I --ROUTE-- IV\t --NDC-- 00517570425\n",
      "2147-09-27 00:00:00 -- PRESCRIPTION \t --NAME-- Metolazone -- METL5 --ROUTE-- PO\t --NDC-- 51079002420\n",
      "2147-09-28 00:00:00 -- PRESCRIPTION \t --NAME-- Albumin 25% (12.5g / 50mL) -- ALBU25 --ROUTE-- IV\t --NDC-- 67467064301\n",
      "2147-09-29 00:00:00 -- PRESCRIPTION \t --NAME-- Sodium Polystyrene Sulfonate -- KAYE15L --ROUTE-- PO/NG\t --NDC-- 46287000660\n",
      "2147-09-26 00:00:00 -- PRESCRIPTION \t --NAME-- 0.9% Sodium Chloride (Mini Bag Plus) -- NS/MBP100I --ROUTE-- IV\t --NDC-- 00338055318\n",
      "2147-09-27 00:00:00 -- PRESCRIPTION \t --NAME-- Iso-Osmotic Dextrose -- VANCOBASE --ROUTE-- IV\t --NDC-- 0\n",
      "2147-09-26 00:00:00 -- PRESCRIPTION \t --NAME-- 0.9% Sodium Chloride -- NS100CG --ROUTE-- IV\t --NDC-- 0\n",
      "2147-09-26 00:00:00 -- PRESCRIPTION \t --NAME-- 0.9% Sodium Chloride -- NS1000 --ROUTE-- IV\t --NDC-- 00338004904\n",
      "2147-09-26 00:00:00 -- PRESCRIPTION \t --NAME-- Bag -- BAG50 --ROUTE-- IV\t --NDC-- 0\n",
      "2147-09-26 00:00:00 -- PRESCRIPTION \t --NAME-- Bag -- BAG50 --ROUTE-- IV\t --NDC-- 0\n",
      "2147-09-26 00:00:00 -- PRESCRIPTION \t --NAME-- Bag -- BAG50 --ROUTE-- IV\t --NDC-- 0\n",
      "2147-09-26 00:00:00 -- PRESCRIPTION \t --NAME-- Sterile Water -- KCLBASE2 --ROUTE-- IV\t --NDC-- 0\n",
      "2147-09-26 00:00:00 -- PRESCRIPTION \t --NAME-- Sterile Water -- KCLBASE2 --ROUTE-- IV\t --NDC-- 0\n",
      "2147-09-26 00:00:00 -- PRESCRIPTION \t --NAME-- Sterile Water -- KCLBASE2 --ROUTE-- IV\t --NDC-- 0\n",
      "2147-09-26 00:00:00 -- PRESCRIPTION \t --NAME-- 0.9% Sodium Chloride -- NS100CG --ROUTE-- IV\t --NDC-- 0\n",
      "2147-09-26 00:00:00 -- PRESCRIPTION \t --NAME-- 0.9% Sodium Chloride -- NS100CG --ROUTE-- IV\t --NDC-- 0\n",
      "2147-09-26 00:00:00 -- PRESCRIPTION \t --NAME-- 0.9% Sodium Chloride -- NS100CG --ROUTE-- IV\t --NDC-- 0\n",
      "2147-09-26 00:00:00 -- PRESCRIPTION \t --NAME-- 5% Dextrose -- NOREBASE --ROUTE-- IV DRIP\t --NDC-- 0\n",
      "2147-09-26 00:00:00 -- PRESCRIPTION \t --NAME-- 0.9% Sodium Chloride (Mini Bag Plus) -- NS/MBP100I --ROUTE-- IV\t --NDC-- 00338055318\n",
      "2147-09-27 00:00:00 -- PRESCRIPTION \t --NAME-- 5% Dextrose -- D5W50 --ROUTE-- IV DRIP\t --NDC-- 00338001731\n",
      "2147-09-27 00:00:00 -- PRESCRIPTION \t --NAME-- 5% Dextrose -- D5W50 --ROUTE-- IV DRIP\t --NDC-- 00338001731\n",
      "2147-09-27 00:00:00 -- PRESCRIPTION \t --NAME-- 5% Dextrose -- D5W50 --ROUTE-- IV\t --NDC-- 00338001731\n",
      "2147-09-28 00:00:00 -- PRESCRIPTION \t --NAME-- 0.9% Sodium Chloride -- NS500 --ROUTE-- IV\t --NDC-- 00338004903\n",
      "2147-09-28 00:00:00 -- PRESCRIPTION \t --NAME-- Iso-Osmotic Dextrose -- FRBD50 --ROUTE-- IV\t --NDC-- 0\n",
      "2147-09-26 00:00:00 -- PRESCRIPTION \t --NAME-- Comtan -- ENTA200 --ROUTE-- ORAL\t --NDC-- 00078032705\n"
     ]
    }
   ],
   "source": [
    "for i, psc in enumerate(admission.psc_events[:25]):\n",
    "    print psc"
   ]
  },
  {
   "cell_type": "code",
   "execution_count": 14,
   "metadata": {
    "collapsed": false
   },
   "outputs": [
    {
     "name": "stdout",
     "output_type": "stream",
     "text": [
      "2147-09-29 19:30:00 -- PROCEDURE \t --NAME-- Cont inv mec ven <96 hrs\t --ICD9-- 9671\n",
      "2147-09-29 19:30:00 -- PROCEDURE \t --NAME-- Venous cath NEC\t --ICD9-- 3893\n",
      "2147-09-29 19:30:00 -- PROCEDURE \t --NAME-- CV cath plcmt w guidance\t --ICD9-- 3897\n",
      "2147-09-29 19:30:00 -- PROCEDURE \t --NAME-- Entral infus nutrit sub\t --ICD9-- 966\n"
     ]
    }
   ],
   "source": [
    "for i, pcd in enumerate(admission.pcd_events[:25]):\n",
    "    print pcd\n"
   ]
  },
  {
   "cell_type": "code",
   "execution_count": 16,
   "metadata": {
    "collapsed": false
   },
   "outputs": [
    {
     "name": "stdout",
     "output_type": "stream",
     "text": [
      "2147-09-29 19:30:00 -- DIAGNOSIS \t --NAME-- Septicemia NOS\t --ICD9-- 0389\n",
      "2147-09-29 19:30:00 -- DIAGNOSIS \t --NAME-- Acute & chronc resp fail\t --ICD9-- 51884\n",
      "2147-09-29 19:30:00 -- DIAGNOSIS \t --NAME-- Toxic encephalopathy\t --ICD9-- 34982\n",
      "2147-09-29 19:30:00 -- DIAGNOSIS \t --NAME-- Septic shock\t --ICD9-- 78552\n",
      "2147-09-29 19:30:00 -- DIAGNOSIS \t --NAME-- Ventltr assoc pneumonia\t --ICD9-- 99731\n",
      "2147-09-29 19:30:00 -- DIAGNOSIS \t --NAME-- Acute kidney failure NOS\t --ICD9-- 5849\n",
      "2147-09-29 19:30:00 -- DIAGNOSIS \t --NAME-- Respirator depend status\t --ICD9-- V4611\n",
      "2147-09-29 19:30:00 -- DIAGNOSIS \t --NAME-- Obs chr bronc w(ac) exac\t --ICD9-- 49121\n",
      "2147-09-29 19:30:00 -- DIAGNOSIS \t --NAME-- Acidosis\t --ICD9-- 2762\n",
      "2147-09-29 19:30:00 -- DIAGNOSIS \t --NAME-- Neurohypophysis dis NEC\t --ICD9-- 2536\n",
      "2147-09-29 19:30:00 -- DIAGNOSIS \t --NAME-- Severe sepsis\t --ICD9-- 99592\n",
      "2147-09-29 19:30:00 -- DIAGNOSIS \t --NAME-- Abn react-procedure NEC\t --ICD9-- E8798\n",
      "2147-09-29 19:30:00 -- DIAGNOSIS \t --NAME-- Hyperpotassemia\t --ICD9-- 2767\n",
      "2147-09-29 19:30:00 -- DIAGNOSIS \t --NAME-- Hypovolemia\t --ICD9-- 27652\n",
      "2147-09-29 19:30:00 -- DIAGNOSIS \t --NAME-- Paralysis agitans\t --ICD9-- 3320\n",
      "2147-09-29 19:30:00 -- DIAGNOSIS \t --NAME-- Fluid overload NEC\t --ICD9-- 27669\n",
      "2147-09-29 19:30:00 -- DIAGNOSIS \t --NAME-- Diarrhea\t --ICD9-- 78791\n",
      "2147-09-29 19:30:00 -- DIAGNOSIS \t --NAME-- Flatul/eructat/gas pain\t --ICD9-- 7873\n",
      "2147-09-29 19:30:00 -- DIAGNOSIS \t --NAME-- Hypertension NOS\t --ICD9-- 4019\n",
      "2147-09-29 19:30:00 -- DIAGNOSIS \t --NAME-- Osteoporosis NOS\t --ICD9-- 73300\n",
      "2147-09-29 19:30:00 -- DIAGNOSIS \t --NAME-- Tracheostomy status\t --ICD9-- V440\n",
      "2147-09-29 19:30:00 -- DIAGNOSIS \t --NAME-- Gastrostomy status\t --ICD9-- V441\n",
      "2147-09-29 19:30:00 -- DIAGNOSIS \t --NAME-- Do not resusctate status\t --ICD9-- V4986\n",
      "2147-09-29 19:30:00 -- DIAGNOSIS \t --NAME-- Abn urine findings NEC\t --ICD9-- 7919\n",
      "2147-09-29 19:30:00 -- DIAGNOSIS \t --NAME-- Glaucoma NOS\t --ICD9-- 3659\n"
     ]
    }
   ],
   "source": [
    "for i, dgn in enumerate(admission.dgn_events[:25]):\n",
    "    print dgn\n"
   ]
  },
  {
   "cell_type": "code",
   "execution_count": 17,
   "metadata": {
    "collapsed": false
   },
   "outputs": [
    {
     "name": "stdout",
     "output_type": "stream",
     "text": [
      "2147-09-29 -- NOTE \t --NOTE_TYPE-- Discharge summary --Report\t \n",
      " Admission Date:  [**3269-9-23**]              Discharge Date:   [**3269-9-27**] \n",
      " Service: MEDICINE \n",
      " Allergies: \n",
      " Valium \n",
      " Attending:[**First Name3 (LF) 588**] \n",
      " Chief Complaint: \n",
      " Altered mental ...\n",
      "2147-09-29 -- NOTE \t --NOTE_TYPE-- ECG --Report\t \n",
      " Sinus rhythm with occasional atrial premature beats.  A-V conduction delay. \n",
      " Left axis deviation.  Old inferior wall myocardial infarction.  Low voltage. \n",
      " Compared to the previous tracing of [**3...\n",
      "2147-09-29 -- NOTE \t --NOTE_TYPE-- ECG --Report\t \n",
      " Sinus bradycardia with atrial bigeminy.  A-V conduction delay.  Left axis \n",
      " deviation consistent with left anterior fascicular block.  Old inferior wall \n",
      " myocardial infarction.  Low voltage.  Comp...\n",
      "2147-09-25 -- NOTE \t --NOTE_TYPE-- ECG --Report\t \n",
      " Baseline artifact.  Sinus arrhythmia.  P-R interval prolongation.  Left axis \n",
      " deviation.  Inferior wall myocardial infarction.  Low voltage.  Since the \n",
      " previous tracing of [**3268-8-20**] sinus ...\n",
      "2147-09-25 -- NOTE \t --NOTE_TYPE-- Radiology --CHEST (PORTABLE AP)\t \n",
      " [**3269-9-23**] 4:48 PM \n",
      " CHEST (PORTABLE AP)                                             Clip # [**Clip Number (Radiology) 81778**] \n",
      " Reason: r/o infiltrate \n",
      " _____________________________________...\n",
      "2147-09-25 -- NOTE \t --NOTE_TYPE-- Radiology --CT HEAD W/O CONTRAST\t \n",
      " [**3269-9-23**] 5:28 PM \n",
      " CT HEAD W/O CONTRAST                                            Clip # [**Clip Number (Radiology) 81787**] \n",
      " Reason: head CT before abdominal CTr/o infarct \n",
      " _____________...\n",
      "2147-09-25 -- NOTE \t --NOTE_TYPE-- Radiology --CT ABD & PELVIS WITH CONTRAST\t \n",
      " [**3269-9-23**] 5:29 PM \n",
      " CT ABD & PELVIS WITH CONTRAST                                   Clip # [**Clip Number (Radiology) 81798**] \n",
      " Reason: head CT before abdominal CTeval for intraabdominal inf...\n",
      "2147-09-26 -- NOTE \t --NOTE_TYPE-- Radiology --CHEST (PORTABLE AP)\t \n",
      " [**3269-9-24**] 4:44 AM \n",
      " CHEST (PORTABLE AP)                                             Clip # [**Clip Number (Radiology) 81806**] \n",
      " Reason: r/o pneumonia \n",
      " Admitting Diagnosis: SEPSIS \n",
      " ________...\n",
      "2147-09-27 -- NOTE \t --NOTE_TYPE-- Radiology --CHEST PORT. LINE PLACEMENT\t \n",
      " [**3269-9-25**] 12:44 PM \n",
      " CHEST PORT. LINE PLACEMENT                                      Clip # [**Clip Number (Radiology) 81822**] \n",
      " Reason: r picc 47cm [**Doctor First Name **] [**Numeric Ident...\n",
      "2147-09-27 -- NOTE \t --NOTE_TYPE-- Radiology --L UNILAT UP EXT VEINS US LEFT\t \n",
      " [**3269-9-25**] 9:33 AM \n",
      " UNILAT UP EXT VEINS US LEFT                                     Clip # [**Clip Number (Radiology) 81818**] \n",
      " Reason: Please evaluate for clot in LUE or any other cause of ...\n",
      "2147-09-25 -- NOTE \t --NOTE_TYPE-- Radiology --CHEST (PORTABLE AP)\t \n",
      " [**3269-9-23**] 4:48 PM \n",
      " CHEST (PORTABLE AP)                                             Clip # [**Clip Number (Radiology) 16216**] \n",
      " Reason: r/o infiltrate \n",
      " _____________________________________...\n",
      "2147-09-27 -- NOTE \t --NOTE_TYPE-- Radiology --L UNILAT UP EXT VEINS US LEFT\t \n",
      " [**3269-9-25**] 9:33 AM \n",
      " UNILAT UP EXT VEINS US LEFT                                     Clip # [**Clip Number (Radiology) 16220**] \n",
      " Reason: Please evaluate for clot in LUE or any other cause of ...\n",
      "2147-09-27 -- NOTE \t --NOTE_TYPE-- Radiology --CHEST PORT. LINE PLACEMENT\t \n",
      " [**3269-9-25**] 12:44 PM \n",
      " CHEST PORT. LINE PLACEMENT                                      Clip # [**Clip Number (Radiology) 16221**] \n",
      " Reason: r picc 47cm [**Doctor First Name **] [**Numeric Ident...\n",
      "2147-09-25 -- NOTE \t --NOTE_TYPE-- Radiology --CT HEAD W/O CONTRAST\t \n",
      " [**3269-9-23**] 5:28 PM \n",
      " CT HEAD W/O CONTRAST                                            Clip # [**Clip Number (Radiology) 16217**] \n",
      " Reason: head CT before abdominal CTr/o infarct \n",
      " _____________...\n",
      "2147-09-25 -- NOTE \t --NOTE_TYPE-- Radiology --CT ABD & PELVIS WITH CONTRAST\t \n",
      " [**3269-9-23**] 5:29 PM \n",
      " CT ABD & PELVIS WITH CONTRAST                                   Clip # [**Clip Number (Radiology) 16218**] \n",
      " Reason: head CT before abdominal CTeval for intraabdominal inf...\n",
      "2147-09-26 -- NOTE \t --NOTE_TYPE-- Radiology --CHEST (PORTABLE AP)\t \n",
      " [**3269-9-24**] 4:44 AM \n",
      " CHEST (PORTABLE AP)                                             Clip # [**Clip Number (Radiology) 16219**] \n",
      " Reason: r/o pneumonia \n",
      " Admitting Diagnosis: SEPSIS \n",
      " ________...\n"
     ]
    }
   ],
   "source": [
    "for i, note in enumerate(admission.nte_events[:25]):\n",
    "    print note\n"
   ]
  },
  {
   "cell_type": "code",
   "execution_count": null,
   "metadata": {
    "collapsed": true
   },
   "outputs": [],
   "source": []
  }
 ],
 "metadata": {
  "kernelspec": {
   "display_name": "Python 2",
   "language": "python",
   "name": "python2"
  },
  "language_info": {
   "codemirror_mode": {
    "name": "ipython",
    "version": 2
   },
   "file_extension": ".py",
   "mimetype": "text/x-python",
   "name": "python",
   "nbconvert_exporter": "python",
   "pygments_lexer": "ipython2",
   "version": "2.7.9"
  }
 },
 "nbformat": 4,
 "nbformat_minor": 0
}
