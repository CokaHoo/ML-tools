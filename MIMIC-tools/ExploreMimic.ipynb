{
 "cells": [
  {
   "cell_type": "code",
   "execution_count": 1,
   "metadata": {
    "collapsed": true
   },
   "outputs": [],
   "source": [
    "import shelve\n",
    "\n",
    "import cPickle as pickle\n",
    "\n",
    "from os.path import join as pjoin\n",
    "\n",
    "from MimicPatient import *\n",
    "from MimicEvent import *\n",
    "from Utils import *\n",
    "\n",
    "patients_list = pickle.load(open('/data/ml2/MIMIC3/processed/patients_list.pk'))\n",
    "patients      = shelve.open('/data/ml2/MIMIC3/processed/patients.shlf')\n"
   ]
  },
  {
   "cell_type": "markdown",
   "metadata": {},
   "source": [
    "## Patient overview"
   ]
  },
  {
   "cell_type": "code",
   "execution_count": 28,
   "metadata": {
    "collapsed": false
   },
   "outputs": [
    {
     "name": "stdout",
     "output_type": "stream",
     "text": [
      "---------------- PATIENT \t787\n",
      "--GENDER-- F\t --DOB-- 2062-07-30 00:00:00\t --DOD-- 2143-01-09 00:00:00\t --Hosp_EXPIRED-- N\n",
      "---------------- ADMISSIONS \t3\n",
      "----ADMISSION-- \t --START-- 0001-01-01 00:00:00\t --END-- 0001-01-01 00:00:00\n",
      "0 CPT EVENTS \t0 ICU STAYS \t910 LABS \t0 MICROBIOLOGY \t0 DRUGS BILLED \n",
      "0 PRESCRIPTIONS \t0 PROCEDURES \t0 DIAGNOSES \t8 NOTES\n",
      "-------------- \n",
      "----ADMISSION-- 181463\t --START-- 2142-01-31 18:55:00\t --END-- 2142-02-06 16:48:00\n",
      "0 CPT EVENTS \t1 ICU STAYS \t278 LABS \t0 MICROBIOLOGY \t1 DRUGS BILLED \n",
      "44 PRESCRIPTIONS \t3 PROCEDURES \t9 DIAGNOSES \t11 NOTES\n",
      "-------------- \n",
      "----ADMISSION-- 179228\t --START-- 2142-06-16 03:57:00\t --END-- 2142-07-02 20:00:00\n",
      "11 CPT EVENTS \t2 ICU STAYS \t828 LABS \t10 MICROBIOLOGY \t1 DRUGS BILLED \n",
      "84 PRESCRIPTIONS \t12 PROCEDURES \t9 DIAGNOSES \t34 NOTES\n",
      "-------------- \n",
      "\n"
     ]
    }
   ],
   "source": [
    "print(patients['787'])"
   ]
  },
  {
   "cell_type": "markdown",
   "metadata": {},
   "source": [
    "## Admission overview"
   ]
  },
  {
   "cell_type": "code",
   "execution_count": 26,
   "metadata": {
    "collapsed": false
   },
   "outputs": [
    {
     "name": "stdout",
     "output_type": "stream",
     "text": [
      "2132-07-23 14:46:00\t ADMISSION \t148709\n",
      "EMERGENCY\t IN \tEMERGENCY ROOM ADMIT\t OUT \tHOME HEALTH CARE\n",
      "LANG \tHAIT\t REL \tUNOBTAINABLE\tMARRIED \tMARRIED\t ETHNO \tBLACK/AFRICAN AMERICAN\n",
      "----- 4 CPT EVENTS \n",
      "2132-07-24 00:00:00 -- CPT \t --DESCRIPTION-- Medicine -- Pulmonary\n",
      "2132-07-25 00:00:00 -- CPT \t --DESCRIPTION-- Medicine -- Pulmonary\n",
      "2132-07-26 00:00:00 -- CPT \t --DESCRIPTION-- Medicine -- Pulmonary\n",
      "2132-07-27 00:00:00 -- CPT \t --DESCRIPTION-- Medicine -- Pulmonary\n",
      "----- 1 ICU ADMISSIONS \n",
      "2132-07-23 14:47:03 -- ICU STAY \t --START-- 2132-07-23 14:47:03 --AT-- MICU\t --END-- 2132-08-08 17:03:29 --AT-- MICU\n",
      "----- 874 LABS \n",
      "2132-07-23 10:05:00 -- LAB \t --NAME-- ACETAMINOPHEN\t --LOINC-- 3297-9\t --STATUS-- \n",
      "2132-07-23 10:05:00 -- LAB \t --NAME-- ANION GAP\t --LOINC-- 1863-0\t --STATUS-- \n",
      "2132-07-23 10:05:00 -- LAB \t --NAME-- BARBITURATE SCREEN\t --LOINC-- 3376-1\t --STATUS-- \n",
      "2132-07-23 10:05:00 -- LAB \t --NAME-- BENZODIAZEPINE SCREEN\t --LOINC-- 42662-7\t --STATUS-- \n",
      "2132-07-23 10:05:00 -- LAB \t --NAME-- BICARBONATE\t --LOINC-- 1963-8\t --STATUS-- \n",
      "----- 10 MICROBIOLOGY \n",
      "2132-08-11 17:19:00 -- MICROBIOLOGY \t --DESCRIPTION-- CATHETER TIP-IV\t --INTERPRETATION-- S\n",
      "2132-08-11 17:19:00 -- MICROBIOLOGY \t --DESCRIPTION-- CATHETER TIP-IV\t --INTERPRETATION-- S\n",
      "2132-08-11 17:19:00 -- MICROBIOLOGY \t --DESCRIPTION-- CATHETER TIP-IV\t --INTERPRETATION-- S\n",
      "2132-08-11 17:19:00 -- MICROBIOLOGY \t --DESCRIPTION-- CATHETER TIP-IV\t --INTERPRETATION-- S\n",
      "2132-08-11 17:19:00 -- MICROBIOLOGY \t --DESCRIPTION-- CATHETER TIP-IV\t --INTERPRETATION-- S\n",
      "----- 1 DRUGS \n",
      "2132-08-11 17:19:00 -- DRUG_BILL \t --DESCRIPTION-- CRANIOTOMY AGE >17 W\t --SEVERITY-- ('', '')\n",
      "----- 111 PRESCRIPTIONS \n",
      "2132-07-23 00:00:00 -- PRESCRIPTION \t --NAME-- Ondansetron -- ONDAN4I --ROUTE-- IV\t --NDC-- 00173044202\n",
      "2132-07-23 00:00:00 -- PRESCRIPTION \t --NAME-- Metoprolol -- METO5I --ROUTE-- IV\t --NDC-- 00074177825\n",
      "2132-07-23 00:00:00 -- PRESCRIPTION \t --NAME-- Hydralazine HCl -- HYDZ20I --ROUTE-- IV\t --NDC-- 00517090125\n",
      "2132-07-23 00:00:00 -- PRESCRIPTION \t --NAME-- Hydralazine HCl -- HYDZ20I --ROUTE-- IV\t --NDC-- 00517090125\n",
      "2132-07-23 00:00:00 -- PRESCRIPTION \t --NAME-- Insulin -- INSULIN --ROUTE-- SC\t --NDC-- 0\n",
      "----- 7 PROCEDURES \n",
      "2132-08-11 17:19:00 -- PROCEDURE \t --NAME-- Clipping of aneurysm\t --ICD9-- 3951\n",
      "2132-08-11 17:19:00 -- PROCEDURE \t --NAME-- Contr cerebr arteriogram\t --ICD9-- 8841\n",
      "2132-08-11 17:19:00 -- PROCEDURE \t --NAME-- U\t --ICD9-- 022\n",
      "2132-08-11 17:19:00 -- PROCEDURE \t --NAME-- Venous cath NEC\t --ICD9-- 3893\n",
      "2132-08-11 17:19:00 -- PROCEDURE \t --NAME-- Entral infus nutrit sub\t --ICD9-- 966\n",
      "----- 6 DIAGNOSES \n",
      "2132-08-11 17:19:00 -- DIAGNOSIS \t --NAME-- Subarachnoid hemorrhage\t --ICD9-- 430\n",
      "2132-08-11 17:19:00 -- DIAGNOSIS \t --NAME-- React-oth vasc dev/graft\t --ICD9-- 99662\n",
      "2132-08-11 17:19:00 -- DIAGNOSIS \t --NAME-- Hypertension NOS\t --ICD9-- 4019\n",
      "2132-08-11 17:19:00 -- DIAGNOSIS \t --NAME-- Anemia NOS\t --ICD9-- 2859\n",
      "2132-08-11 17:19:00 -- DIAGNOSIS \t --NAME-- Abn react-procedure NEC\t --ICD9-- E8798\n",
      "----- 69 NOTES \n",
      "2132-07-23 -- NOTE \t --NOTE_TYPE-- ECG --Report\t \n",
      " Normal sinus rhythm. Voltage criteria for left ventricular hypertrophy. Left \n",
      " atrial abnormality. Non-specific ST-T wave abnormalities. No previous tracing \n",
      " available for comparison. \n",
      " ...\n",
      "2132-07-23 -- NOTE \t --NOTE_TYPE-- Radiology --CT C-SPINE W/O CONTRAST\t \n",
      " [**2509-5-22**] 10:13 PM \n",
      " CT C-SPINE W/O CONTRAST; CT RECONSTRUCTION                      Clip # [**0-0-**] \n",
      " Reason: S/P FALL.R/O FX \n",
      " Admitting Diagnosis: SAH \n",
      " _________________________________...\n",
      "2132-07-23 -- NOTE \t --NOTE_TYPE-- Radiology --CT RECONSTRUCTION\t \n",
      " [**2509-5-22**] 10:13 PM \n",
      " CT C-SPINE W/O CONTRAST; CT RECONSTRUCTION                      Clip # [**0-0-**] \n",
      " Reason: S/P FALL.R/O FX \n",
      " Admitting Diagnosis: SAH \n",
      " _________________________________...\n",
      "2132-07-23 -- NOTE \t --NOTE_TYPE-- Radiology --CTA HEAD W&W/O C & RECONS\t \n",
      " [**2509-5-22**] 12:47 PM \n",
      " CTA HEAD W&W/O C & RECONS; CT 150CC NONIONIC CONTRAST           Clip # [**Clip Number (Radiology) 95277**] \n",
      " Reason: SAH, ? ruptured aneurysm \n",
      " Contrast: OPTIRAY Amt: 150...\n",
      "2132-07-23 -- NOTE \t --NOTE_TYPE-- Radiology --ADD'L 2ND/3RD ORDER\t \n",
      " [**2509-5-22**] 5:14 PM \n",
      " CAROT/CEREB [**Hospital1 **]                                                  Clip # [**0-0-**] \n",
      " Reason: SAH \n",
      " Admitting Diagnosis: SAH \n",
      " Contrast: OPTIRAY Amt: 200 \n",
      " ***...\n",
      "\n"
     ]
    }
   ],
   "source": [
    "admission = patients['416'].admissions['148709']\n",
    "\n",
    "print(admission)"
   ]
  },
  {
   "cell_type": "markdown",
   "metadata": {},
   "source": [
    "#### All CPT events for the admission"
   ]
  },
  {
   "cell_type": "code",
   "execution_count": 4,
   "metadata": {
    "collapsed": false
   },
   "outputs": [
    {
     "name": "stdout",
     "output_type": "stream",
     "text": [
      "2194-01-18 14:30:00 -- CPT \t --DESCRIPTION-- Evaluation and management -- Hospital inpatient services\n",
      "2194-01-18 14:30:00 -- CPT \t --DESCRIPTION-- Evaluation and management -- Hospital inpatient services\n",
      "2194-01-18 14:30:00 -- CPT \t --DESCRIPTION-- Evaluation and management -- Hospital inpatient services\n",
      "2194-01-18 14:30:00 -- CPT \t --DESCRIPTION-- Evaluation and management -- Hospital inpatient services\n",
      "2194-01-18 14:30:00 -- CPT \t --DESCRIPTION-- Evaluation and management -- Hospital inpatient services\n"
     ]
    }
   ],
   "source": [
    "for i, cpt in enumerate(admission.cpt_events):\n",
    "    print cpt"
   ]
  },
  {
   "cell_type": "markdown",
   "metadata": {},
   "source": [
    "#### All ICU stays for the admission"
   ]
  },
  {
   "cell_type": "code",
   "execution_count": 5,
   "metadata": {
    "collapsed": false
   },
   "outputs": [
    {
     "name": "stdout",
     "output_type": "stream",
     "text": [
      "2194-01-13 20:49:52 -- ICU STAY \t --START-- 2194-01-13 20:49:52 --AT-- MICU\t --END-- 2194-01-15 22:59:28 --AT-- MICU\n"
     ]
    }
   ],
   "source": [
    "for i, icu in enumerate(admission.icu_events):\n",
    "    print icu\n"
   ]
  },
  {
   "cell_type": "markdown",
   "metadata": {},
   "source": [
    "#### All labs for the admission"
   ]
  },
  {
   "cell_type": "code",
   "execution_count": 6,
   "metadata": {
    "collapsed": false
   },
   "outputs": [
    {
     "name": "stdout",
     "output_type": "stream",
     "text": [
      "2194-01-15 06:30:00 -- LAB \t --NAME-- UREA NITROGEN\t --LOINC-- 3094-0\t --STATUS-- \n",
      "2194-01-15 06:30:00 -- LAB \t --NAME-- HEMATOCRIT\t --LOINC-- 4544-3\t --STATUS-- abnormal\n",
      "2194-01-15 06:30:00 -- LAB \t --NAME-- HEMOGLOBIN\t --LOINC-- 718-7\t --STATUS-- abnormal\n",
      "2194-01-15 06:30:00 -- LAB \t --NAME-- MCH\t --LOINC-- 785-6\t --STATUS-- abnormal\n",
      "2194-01-15 06:30:00 -- LAB \t --NAME-- MCHC\t --LOINC-- 786-4\t --STATUS-- \n",
      "2194-01-15 06:30:00 -- LAB \t --NAME-- MCV\t --LOINC-- 787-2\t --STATUS-- \n",
      "2194-01-15 06:30:00 -- LAB \t --NAME-- PLATELET COUNT\t --LOINC-- 777-3\t --STATUS-- \n",
      "2194-01-15 06:30:00 -- LAB \t --NAME-- RDW\t --LOINC-- 788-0\t --STATUS-- \n",
      "2194-01-15 06:30:00 -- LAB \t --NAME-- RED BLOOD CELLS\t --LOINC-- 789-8\t --STATUS-- abnormal\n",
      "2194-01-15 06:30:00 -- LAB \t --NAME-- WHITE BLOOD CELLS\t --LOINC-- 804-5\t --STATUS-- abnormal\n",
      "2194-01-16 07:30:00 -- LAB \t --NAME-- ALBUMIN\t --LOINC-- 1751-7\t --STATUS-- abnormal\n",
      "2194-01-16 07:30:00 -- LAB \t --NAME-- ANION GAP\t --LOINC-- 1863-0\t --STATUS-- \n",
      "2194-01-16 07:30:00 -- LAB \t --NAME-- BICARBONATE\t --LOINC-- 1963-8\t --STATUS-- \n",
      "2194-01-16 07:30:00 -- LAB \t --NAME-- CHLORIDE\t --LOINC-- 2075-0\t --STATUS-- \n",
      "2194-01-16 07:30:00 -- LAB \t --NAME-- CREATININE\t --LOINC-- 2160-0\t --STATUS-- \n",
      "2194-01-16 07:30:00 -- LAB \t --NAME-- FERRITIN\t --LOINC-- 2276-4\t --STATUS-- abnormal\n",
      "2194-01-16 07:30:00 -- LAB \t --NAME-- FOLATE\t --LOINC-- 2284-8\t --STATUS-- \n",
      "2194-01-16 07:30:00 -- LAB \t --NAME-- GLUCOSE\t --LOINC-- 2345-7\t --STATUS-- abnormal\n",
      "2194-01-16 07:30:00 -- LAB \t --NAME-- IRON\t --LOINC-- 2498-4\t --STATUS-- \n",
      "2194-01-16 07:30:00 -- LAB \t --NAME-- IRON BINDING CAPACITY, TOTAL\t --LOINC-- 2500-7\t --STATUS-- abnormal\n",
      "2194-01-16 07:30:00 -- LAB \t --NAME-- POTASSIUM\t --LOINC-- 2823-3\t --STATUS-- \n",
      "2194-01-16 07:30:00 -- LAB \t --NAME-- SODIUM\t --LOINC-- 2951-2\t --STATUS-- \n",
      "2194-01-16 07:30:00 -- LAB \t --NAME-- TRANSFERRIN\t --LOINC-- 2500-7\t --STATUS-- abnormal\n",
      "2194-01-16 07:30:00 -- LAB \t --NAME-- UREA NITROGEN\t --LOINC-- 3094-0\t --STATUS-- \n",
      "2194-01-16 07:30:00 -- LAB \t --NAME-- VITAMIN B12\t --LOINC-- 2170-9\t --STATUS-- abnormal\n"
     ]
    }
   ],
   "source": [
    "for i, lab in enumerate(admission.lab_events[:25]):\n",
    "    print lab"
   ]
  },
  {
   "cell_type": "markdown",
   "metadata": {},
   "source": [
    "#### All microbiology events for the admission"
   ]
  },
  {
   "cell_type": "code",
   "execution_count": 17,
   "metadata": {
    "collapsed": false
   },
   "outputs": [
    {
     "name": "stdout",
     "output_type": "stream",
     "text": [
      "2194-01-14 07:00:00 -- MICROBIOLOGY \t --DESCRIPTION-- SPUTUM\t --INTERPRETATION-- \n"
     ]
    }
   ],
   "source": [
    "for i, micro in enumerate(admission.mic_events):\n",
    "    print micro"
   ]
  },
  {
   "cell_type": "markdown",
   "metadata": {},
   "source": [
    "#### All billed drugs for the admission"
   ]
  },
  {
   "cell_type": "code",
   "execution_count": 8,
   "metadata": {
    "collapsed": false
   },
   "outputs": [
    {
     "name": "stdout",
     "output_type": "stream",
     "text": [
      "2194-01-18 14:30:00 -- DRUG_BILL \t --DESCRIPTION-- SEPTICEMIA AGE >17\t --SEVERITY-- ('', '')\n"
     ]
    }
   ],
   "source": [
    "for i, drg in enumerate(admission.drg_events):\n",
    "    print drg"
   ]
  },
  {
   "cell_type": "markdown",
   "metadata": {},
   "source": [
    "#### All prescriptions for the admission"
   ]
  },
  {
   "cell_type": "code",
   "execution_count": 9,
   "metadata": {
    "collapsed": false
   },
   "outputs": [
    {
     "name": "stdout",
     "output_type": "stream",
     "text": [
      "2194-01-18 00:00:00 -- PRESCRIPTION \t --NAME-- Potassium Chloride -- KCL20P --ROUTE-- PO\t --NDC-- 00456066270\n",
      "2194-01-18 00:00:00 -- PRESCRIPTION \t --NAME-- Potassium Chloride -- MICROK10 --ROUTE-- PO\t --NDC-- 58177000104\n",
      "2194-01-14 00:00:00 -- PRESCRIPTION \t --NAME-- Heparin -- HEPA5I --ROUTE-- SC\t --NDC-- 00641040025\n",
      "2194-01-14 00:00:00 -- PRESCRIPTION \t --NAME-- Potassium Chloride -- MICROK10 --ROUTE-- PO\t --NDC-- 58177000104\n",
      "2194-01-14 00:00:00 -- PRESCRIPTION \t --NAME-- Calcium Gluconate -- CALG1I --ROUTE-- IV\t --NDC-- 00517391025\n",
      "2194-01-14 00:00:00 -- PRESCRIPTION \t --NAME-- Insulin -- INSULIN --ROUTE-- SC\t --NDC-- 0\n",
      "2194-01-15 00:00:00 -- PRESCRIPTION \t --NAME-- Ibuprofen -- IBUP600 --ROUTE-- PO\t --NDC-- 51079028220\n",
      "2194-01-15 00:00:00 -- PRESCRIPTION \t --NAME-- Propoxyphene Nap.-Apap (N-100) -- DARV100 --ROUTE-- PO\t --NDC-- 51079032220\n",
      "2194-01-16 00:00:00 -- PRESCRIPTION \t --NAME-- Atenolol -- ATEN50 --ROUTE-- PO\t --NDC-- 51079068420\n",
      "2194-01-16 00:00:00 -- PRESCRIPTION \t --NAME-- Furosemide -- FURO40I --ROUTE-- IV\t --NDC-- 00074610204\n",
      "2194-01-17 00:00:00 -- PRESCRIPTION \t --NAME-- Furosemide -- FURO40I --ROUTE-- IV\t --NDC-- 00074610204\n",
      "2194-01-17 00:00:00 -- PRESCRIPTION \t --NAME-- Furosemide -- FURO40I --ROUTE-- IV\t --NDC-- 00074610204\n",
      "2194-01-13 00:00:00 -- PRESCRIPTION \t --NAME-- SW -- KCLBASE2 --ROUTE-- IV\t --NDC-- 0\n",
      "2194-01-13 00:00:00 -- PRESCRIPTION \t --NAME-- NS -- NS250 --ROUTE-- IV\t --NDC-- 00338004902\n",
      "2194-01-14 00:00:00 -- PRESCRIPTION \t --NAME-- Iso-Osmotic Dextrose -- FRBD50 --ROUTE-- IV\t --NDC-- 0\n",
      "2194-01-13 00:00:00 -- PRESCRIPTION \t --NAME-- Potassium Chloride -- KCL20PM --ROUTE-- IV\t --NDC-- 00338070341\n",
      "2194-01-13 00:00:00 -- PRESCRIPTION \t --NAME-- Magnesium Sulfate -- MAGS1I --ROUTE-- IV\t --NDC-- 00074407532\n",
      "2194-01-14 00:00:00 -- PRESCRIPTION \t --NAME-- Ceftriaxone -- CEFX1F --ROUTE-- IV\t --NDC-- 00004200278\n",
      "2194-01-14 00:00:00 -- PRESCRIPTION \t --NAME-- Acetaminophen -- ACET325 --ROUTE-- PO\t --NDC-- 00045050130\n",
      "2194-01-14 00:00:00 -- PRESCRIPTION \t --NAME-- Docusate Sodium -- DOCU100 --ROUTE-- PO\t --NDC-- 51079001920\n",
      "2194-01-14 00:00:00 -- PRESCRIPTION \t --NAME-- Aspirin -- ASA325 --ROUTE-- PO\t --NDC-- 51079000522\n",
      "2194-01-14 00:00:00 -- PRESCRIPTION \t --NAME-- Atorvastatin -- ATOR10 --ROUTE-- PO\t --NDC-- 00071015523\n",
      "2194-01-14 00:00:00 -- PRESCRIPTION \t --NAME-- Lorazepam -- LORA2I --ROUTE-- IV\t --NDC-- 00008058107\n",
      "2194-01-14 00:00:00 -- PRESCRIPTION \t --NAME-- Lorazepam -- LORA5 --ROUTE-- PO\t --NDC-- 51079041720\n",
      "2194-01-14 00:00:00 -- PRESCRIPTION \t --NAME-- Zolpidem Tartrate -- AMBI5 --ROUTE-- PO\t --NDC-- 00024540134\n"
     ]
    }
   ],
   "source": [
    "for i, psc in enumerate(admission.psc_events[:25]):\n",
    "    print psc"
   ]
  },
  {
   "cell_type": "markdown",
   "metadata": {},
   "source": [
    "#### All procedures for the admission"
   ]
  },
  {
   "cell_type": "code",
   "execution_count": 14,
   "metadata": {
    "collapsed": false
   },
   "outputs": [
    {
     "name": "stdout",
     "output_type": "stream",
     "text": [
      "2194-01-18 14:30:00 -- PROCEDURE \t --NAME-- Venous cath NEC\t --ICD9-- 3893\n"
     ]
    }
   ],
   "source": [
    "for i, pcd in enumerate(admission.pcd_events):\n",
    "    print pcd"
   ]
  },
  {
   "cell_type": "markdown",
   "metadata": {},
   "source": [
    "#### All diagnoses for the admission"
   ]
  },
  {
   "cell_type": "code",
   "execution_count": 15,
   "metadata": {
    "collapsed": false
   },
   "outputs": [
    {
     "name": "stdout",
     "output_type": "stream",
     "text": [
      "2194-01-18 14:30:00 -- DIAGNOSIS \t --NAME-- Septicemia NOS\t --ICD9-- 0389\n",
      "2194-01-18 14:30:00 -- DIAGNOSIS \t --NAME-- Pneumonia, organism NOS\t --ICD9-- 486\n",
      "2194-01-18 14:30:00 -- DIAGNOSIS \t --NAME-- Hypertension NOS\t --ICD9-- 4019\n",
      "2194-01-18 14:30:00 -- DIAGNOSIS \t --NAME-- Pure hypercholesterolem\t --ICD9-- 2720\n",
      "2194-01-18 14:30:00 -- DIAGNOSIS \t --NAME-- Anxiety state NOS\t --ICD9-- 30000\n",
      "2194-01-18 14:30:00 -- DIAGNOSIS \t --NAME-- Esophageal reflux\t --ICD9-- 53081\n",
      "2194-01-18 14:30:00 -- DIAGNOSIS \t --NAME-- Anemia NOS\t --ICD9-- 2859\n",
      "2194-01-18 14:30:00 -- DIAGNOSIS \t --NAME-- Sepsis\t --ICD9-- 99591\n"
     ]
    }
   ],
   "source": [
    "for i, dgn in enumerate(admission.dgn_events):\n",
    "    print dgn"
   ]
  },
  {
   "cell_type": "markdown",
   "metadata": {},
   "source": [
    "#### All notes for the admission"
   ]
  },
  {
   "cell_type": "code",
   "execution_count": 16,
   "metadata": {
    "collapsed": false
   },
   "outputs": [
    {
     "name": "stdout",
     "output_type": "stream",
     "text": [
      "2194-01-18 -- NOTE \t --NOTE_TYPE-- Discharge summary --Report\t \n",
      " Admission Date:  [**2520-1-8**]     Discharge Date:  [**2520-1-11**] \n",
      " Date of Birth:   [**2448-7-12**]     Sex:  F \n",
      " Service: \n",
      " CHIEF COMPLAINT:  Fever and chest pain. \n",
      " HISTORY OF PRESENT ILLNESS...\n",
      "2194-01-14 -- NOTE \t --NOTE_TYPE-- ECG --Report\t \n",
      " Sinus rhythm. Consider left atrial abnormality. Otherwise, normal tracing. No \n",
      " previous tracing available for comparison. \n",
      " ...\n",
      "2194-01-15 -- NOTE \t --NOTE_TYPE-- Nursing/other --Report\t \n",
      " Pt became tacypnic and tachycardic with ambulation and desated to 89 RA.  Pt SOB with minimal exertion noted.  Pt has order to be discharged to home, however when pt approached by team for potentia...\n",
      "2194-01-14 -- NOTE \t --NOTE_TYPE-- Nursing/other --Report\t \n",
      " NURSING PROGRESS AND ADMISSION NOTE 2200-0700 \n",
      " THIS IS A 71 Y/O F THAT HAD INITIALLY PRESENTED TO HER PCP [**Last Name (NamePattern4) **] [**2520-1-4**] C/O OF HAVING A URI.  DUE TO PERSISTENT SYM...\n",
      "2194-01-15 -- NOTE \t --NOTE_TYPE-- Nursing/other --Report\t \n",
      " NEURO:  A+Ox3.  +MAE noted.  +prod cough noted. \n",
      " CV:  Monitor shows NSR-ST with no ectopy noted. \n",
      " RESP:  LS with crackles R side and L base.  O2 weaned to off and 94 RA.  SOB with exertion noted....\n",
      "2194-01-14 -- NOTE \t --NOTE_TYPE-- Nursing/other --Report\t \n",
      " nursing progress note see careview for details. \n",
      " neuro:awake,alert,oriented x3 pupils perl.follows commands and moves all extremites with equal strenght able to ambulate around room. \n",
      " cv:remains ...\n",
      "2194-01-15 -- NOTE \t --NOTE_TYPE-- Nursing/other --Report\t \n",
      " MICU-B, NPN: \n",
      " Neuro:  A&OX3, PERRLA @ 3mm, MAE independently. \n",
      " CV:  HR 70's-90's NSR w/o ectopy.  SBP 120's-140's.  Easily palpable peripherals. \n",
      " Resp:  Lungs clear upper lobes, crackles @ bases...\n"
     ]
    }
   ],
   "source": [
    "for i, note in enumerate(admission.nte_events):\n",
    "    print note\n"
   ]
  },
  {
   "cell_type": "code",
   "execution_count": null,
   "metadata": {
    "collapsed": true
   },
   "outputs": [],
   "source": []
  }
 ],
 "metadata": {
  "kernelspec": {
   "display_name": "Python 2",
   "language": "python",
   "name": "python2"
  },
  "language_info": {
   "codemirror_mode": {
    "name": "ipython",
    "version": 2
   },
   "file_extension": ".py",
   "mimetype": "text/x-python",
   "name": "python",
   "nbconvert_exporter": "python",
   "pygments_lexer": "ipython2",
   "version": "2.7.9"
  }
 },
 "nbformat": 4,
 "nbformat_minor": 0
}
